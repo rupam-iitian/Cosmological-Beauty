{
  "nbformat": 4,
  "nbformat_minor": 0,
  "metadata": {
    "colab": {
      "provenance": [],
      "authorship_tag": "ABX9TyMCnbwTeTPNKqfBmOSAHZQ/",
      "include_colab_link": true
    },
    "kernelspec": {
      "name": "python3",
      "display_name": "Python 3"
    },
    "language_info": {
      "name": "python"
    }
  },
  "cells": [
    {
      "cell_type": "markdown",
      "metadata": {
        "id": "view-in-github",
        "colab_type": "text"
      },
      "source": [
        "<a href=\"https://colab.research.google.com/github/rupam-iitian/Cosmological-Beauty/blob/main/DATA_TOOLKIT_ASSIGNMENT.ipynb\" target=\"_parent\"><img src=\"https://colab.research.google.com/assets/colab-badge.svg\" alt=\"Open In Colab\"/></a>"
      ]
    },
    {
      "cell_type": "markdown",
      "source": [
        "# **THEORY QUESTIONS ANSWERS**\n"
      ],
      "metadata": {
        "id": "SrsinJ41aFsR"
      }
    },
    {
      "cell_type": "markdown",
      "source": [
        "Q1) What is NumPy, and why is it widely used in Python."
      ],
      "metadata": {
        "id": "O6AtpcGlFlR5"
      }
    },
    {
      "cell_type": "markdown",
      "source": [
        "   -\n",
        "   ### **What is NumPy?**\n",
        "NumPy (Numerical Python) is a fundamental library for numerical computing in Python. It provides support for large, multi-dimensional arrays and matrices, along with a vast collection of mathematical functions to operate on these data structures efficiently.\n",
        "\n",
        "### **Why is NumPy Widely Used?**\n",
        "1. **Performance:** NumPy is implemented in C and Fortran, making numerical operations significantly faster compared to native Python lists.\n",
        "2. **Multi-dimensional Arrays:** The `ndarray` object allows efficient storage and manipulation of large datasets.\n",
        "3. **Broadcasting:** Enables operations on arrays of different shapes without requiring explicit looping.\n",
        "4. **Vectorization:** NumPy allows element-wise operations without explicit loops, leading to cleaner and more efficient code.\n",
        "5. **Rich Mathematical Functions:** Includes functions for linear algebra, Fourier transforms, and statistical operations.\n",
        "6. **Integration with Other Libraries:** Used as a base for other scientific computing and machine learning libraries like Pandas, SciPy, and TensorFlow.\n",
        "7. **Memory Efficiency:** Uses contiguous memory storage, reducing overhead compared to Python lists.\n"
      ],
      "metadata": {
        "id": "o3_LzNr4Usfm"
      }
    },
    {
      "cell_type": "markdown",
      "source": [
        "Q2)  How does broadcasting work in NumPy."
      ],
      "metadata": {
        "id": "ACvIgErha2EI"
      }
    },
    {
      "cell_type": "markdown",
      "source": [
        "### **How Does Broadcasting Work in NumPy?**\n",
        "**Broadcasting** is a mechanism that allows NumPy to perform element-wise operations on arrays of different shapes without explicitly replicating data. It makes computations more efficient by avoiding unnecessary memory usage.\n",
        "\n",
        "### **Broadcasting Rules**\n",
        "When performing operations between arrays, NumPy compares their shapes **element-wise** from the **rightmost dimension to the left** and applies the following rules:\n",
        "\n",
        "1. **If the dimensions match**, they are compatible.\n",
        "2. **If one of the dimensions is 1**, it is stretched (broadcasted) to match the other.\n",
        "3. **If dimensions are different and neither is 1, broadcasting fails**, leading to an error.\n",
        "\n",
        "### **Examples of Broadcasting**\n",
        "#### ✅ **Example 1: Scalar and Array**\n",
        "A scalar can be broadcasted to an array of any shape.\n",
        "```python\n",
        "import numpy as np\n",
        "\n",
        "arr = np.array([1, 2, 3])\n",
        "scalar = 5\n",
        "\n",
        "result = arr + scalar  # [1+5, 2+5, 3+5] → [6, 7, 8]\n",
        "print(result)\n",
        "```\n",
        "\n",
        "#### ✅ **Example 2: 1D Array and 2D Array**\n",
        "```python\n",
        "A = np.array([[1, 2, 3], [4, 5, 6]])  # Shape (2,3)\n",
        "B = np.array([10, 20, 30])            # Shape (3,) → (1,3) (broadcasted)\n",
        "\n",
        "result = A + B  \n",
        "print(result)\n",
        "```\n",
        "**Broadcasting happens because B is reshaped to (1,3), then copied across rows.**\n",
        "```\n",
        "[[ 1+10  2+20  3+30]\n",
        " [ 4+10  5+20  6+30]]\n",
        "\n",
        "**Example 3: Incompatible Shapes**\n",
        "```python\n",
        "A = np.array([[1, 2, 3], [4, 5, 6]])  # Shape (2,3)\n",
        "B = np.array([10, 20])               # Shape (2,) → Cannot be broadcasted!\n",
        "\n",
        "result = A + B  # ERROR: Shapes (2,3) and (2,) are incompatible\n",
        "```\n",
        "\n",
        "### **Why Use Broadcasting?**\n",
        "- **Avoids explicit loops** → Faster computation.\n",
        "- **Memory efficient** → No unnecessary data duplication.\n",
        "- **Simplifies code** → Makes operations intuitive.\n"
      ],
      "metadata": {
        "id": "nRDfT0MjYd6X"
      }
    },
    {
      "cell_type": "markdown",
      "source": [
        "Q3) What is a Pandas DataFrame?"
      ],
      "metadata": {
        "id": "3VeeGE-8Y6Dd"
      }
    },
    {
      "cell_type": "markdown",
      "source": [
        "A Pandas DataFrame is a two-dimensional, tabular data structure in Python, similar to an Excel spreadsheet or SQL table. It consists of rows and columns, where:\n",
        "\n",
        "Rows are indexed (default: 0, 1, 2, …).\n",
        "Columns have labels (can be strings or numbers).\n",
        "Each column can hold different data types (integers, floats, strings, etc.).\n",
        "Pandas is widely used for data analysis, manipulation, and cleaning in Python.\n",
        "\n",
        "Why Use Pandas DataFrame?\n",
        "\n",
        "✔ Handles large datasets efficiently\n",
        "✔ Supports different data types in one structure\n",
        "✔ Easy data cleaning and transformation\n",
        "✔ Works well with NumPy & visualization libraries"
      ],
      "metadata": {
        "id": "O6DATPFnZYl0"
      }
    },
    {
      "cell_type": "markdown",
      "source": [
        "Q4) Explain the use of the groupby() method in Pandas."
      ],
      "metadata": {
        "id": "nnl2WobuaLfD"
      }
    },
    {
      "cell_type": "markdown",
      "source": [
        "  --->   ### **Understanding the `groupby()` Method in Pandas**\n",
        "The `groupby()` method in Pandas is used to **group data** based on one or more columns and perform aggregate operations like sum, mean, count, etc. It is similar to the **SQL GROUP BY** statement.\n",
        "\n",
        "---\n",
        "\n",
        "### **Syntax of `groupby()`**\n",
        "```python\n",
        "df.groupby('column_name').aggregate_function()\n",
        "```\n",
        "or\n",
        "```python\n",
        "df.groupby(['column1', 'column2']).aggregate_function()\n",
        "```\n",
        "\n",
        "---\n",
        "\n",
        "### **Example 1: Grouping by a Single Column**\n",
        "Let’s say we have a dataset of employees and their salaries.\n",
        "\n",
        "```python\n",
        "import pandas as pd\n",
        "\n",
        "data = {\n",
        "    'Department': ['HR', 'IT', 'HR', 'IT', 'Finance', 'Finance', 'IT'],\n",
        "    'Employee': ['Alice', 'Bob', 'Charlie', 'David', 'Eve', 'Frank', 'Grace'],\n",
        "    'Salary': [50000, 70000, 55000, 80000, 65000, 60000, 75000]\n",
        "}\n",
        "\n",
        "df = pd.DataFrame(data)\n",
        "print(df)\n",
        "```\n",
        "**DataFrame:**\n",
        "```\n",
        "  Department Employee  Salary\n",
        "0        HR    Alice   50000\n",
        "1        IT      Bob   70000\n",
        "2        HR  Charlie   55000\n",
        "3        IT    David   80000\n",
        "4   Finance      Eve   65000\n",
        "5   Finance    Frank   60000\n",
        "6        IT    Grace   75000\n",
        "```\n",
        "\n",
        "#### **Grouping by \"Department\" and calculating the average salary**\n",
        "```python\n",
        "avg_salary = df.groupby('Department')['Salary'].mean()\n",
        "print(avg_salary)\n",
        "```\n",
        "**Output:**\n",
        "```\n",
        "Department\n",
        "Finance    62500.0\n",
        "HR         52500.0\n",
        "IT         75000.0\n",
        "Name: Salary, dtype: float64\n",
        "```\n",
        " **Explanation:** The `groupby('Department')` groups data by department, and `.mean()` computes the average salary for each department.\n",
        "\n",
        "---\n",
        "\n",
        "### **Example 2: Grouping by Multiple Columns**\n",
        "```python\n",
        "df.groupby(['Department', 'Employee'])['Salary'].sum()\n",
        "```\n",
        "This groups data by **Department and Employee**, then calculates the sum of salaries (useful when tracking multiple salary entries per employee).\n",
        "\n",
        "---\n",
        "\n",
        "### **Example 3: Using Multiple Aggregate Functions**\n",
        "```python\n",
        "df.groupby('Department')['Salary'].agg(['mean', 'sum', 'count'])\n",
        "```\n",
        "**Output:**\n",
        "```\n",
        "             mean    sum  count\n",
        "Department                     \n",
        "Finance  62500.0  125000      2\n",
        "HR       52500.0  105000      2\n",
        "IT       75000.0  225000      3\n",
        "```\n",
        " **Explanation:** The `.agg(['mean', 'sum', 'count'])` applies multiple aggregation functions at once.\n",
        "\n"
      ],
      "metadata": {
        "id": "wvulPqJMagZD"
      }
    },
    {
      "cell_type": "markdown",
      "source": [
        "Q5) Why is Seaborn preferred for statistical visualizations."
      ],
      "metadata": {
        "id": "pds19FP7a4a6"
      }
    },
    {
      "cell_type": "markdown",
      "source": [
        "### **Why is Seaborn Preferred for Statistical Visualizations?**  \n",
        "Seaborn is a Python library built on top of Matplotlib, specifically designed for **statistical data visualization**. It is widely preferred because it makes creating complex visualizations easy, beautiful, and informative.\n",
        "\n",
        "---\n",
        "\n",
        "### **Key Reasons Why Seaborn is Preferred:**\n",
        "1. **Built-in Support for Statistical Data**  \n",
        "   - Seaborn integrates well with Pandas and automatically handles DataFrames.  \n",
        "   - Many functions perform statistical calculations internally (e.g., `sns.histplot()` with KDE).  \n",
        "\n",
        "2. **Beautiful, Readable Plots by Default**  \n",
        "   - Seaborn applies aesthetically pleasing themes automatically, making plots more visually appealing.  \n",
        "   - Colors, grids, and styles are well-optimized for clarity.\n",
        "\n",
        "3. **Simplifies Complex Visualizations**  \n",
        "   - **Example:** Creating a correlation heatmap in **one line**:\n",
        "     ```python\n",
        "     import seaborn as sns\n",
        "     import pandas as pd\n",
        "\n",
        "     df = pd.DataFrame({'A': [1, 2, 3], 'B': [4, 5, 6], 'C': [7, 8, 9]})\n",
        "     sns.heatmap(df.corr(), annot=True)\n",
        "     ```\n",
        "\n",
        "4. **Built-in Support for Categories & Aggregations**  \n",
        "   - Functions like `sns.boxplot()` and `sns.violinplot()` automatically group and summarize categorical data.\n",
        "\n",
        "5. **Integration with Matplotlib & Pandas**  \n",
        "   - Seaborn is **built on Matplotlib** but provides a higher-level, more intuitive API.\n",
        "   - Works seamlessly with Pandas DataFrames, unlike raw Matplotlib.\n",
        "\n",
        "6. **Automatic Handling of Statistical Trends**  \n",
        "   - Functions like `sns.regplot()` can automatically fit and visualize regression models.\n",
        "\n",
        "---\n",
        "\n",
        "### **Example: Comparing Seaborn vs. Matplotlib**\n",
        "#### **Seaborn (Easy & Clean)**\n",
        "```python\n",
        "import seaborn as sns\n",
        "import pandas as pd\n",
        "\n",
        "# Sample Data\n",
        "df = pd.DataFrame({'Category': ['A', 'B', 'A', 'B'], 'Value': [10, 20, 15, 25]})\n",
        "\n",
        "sns.barplot(x='Category', y='Value', data=df)\n",
        "```\n",
        "✔ **One-liner, looks professional, handles statistics automatically.**\n",
        "\n",
        "#### **Matplotlib (More Code, Less Readable)**\n",
        "```python\n",
        "import matplotlib.pyplot as plt\n",
        "\n",
        "categories = ['A', 'B']\n",
        "values = [12.5, 22.5]\n",
        "\n",
        "plt.bar(categories, values)\n",
        "plt.show()\n",
        "```\n",
        " **More manual effort required to achieve the same effect.**\n",
        "\n",
        "\n"
      ],
      "metadata": {
        "id": "bBo8FhtebJKc"
      }
    },
    {
      "cell_type": "markdown",
      "source": [
        "Q6) What are the differences between NumPy arrays and Python lists."
      ],
      "metadata": {
        "id": "gv_HXgkxbTK9"
      }
    },
    {
      "cell_type": "markdown",
      "source": [
        "--->    ### **Differences Between NumPy Arrays and Python Lists**\n",
        "Both **NumPy arrays** and **Python lists** store collections of elements, but they differ significantly in terms of **performance, functionality, and memory efficiency**.\n",
        "\n",
        "| Feature         | **NumPy Array (`ndarray`)** | **Python List** |\n",
        "|---------------|----------------|-------------|\n",
        "| **Speed** | Faster (C-optimized)  | Slower (interpreted Python)  |\n",
        "| **Memory Efficiency** | Uses less memory (fixed-type, contiguous storage) | Uses more memory (dynamic, heterogeneous types) |\n",
        "| **Operations** | Supports **vectorized** operations (element-wise, no loops needed) | Requires explicit looping for element-wise operations |\n",
        "| **Data Type** | Homogeneous (all elements must be of the same type) | Heterogeneous (can store different types) |\n",
        "| **Built-in Functions** | Rich mathematical functions (linear algebra, statistics, etc.) | Limited; relies on loops and manual calculations |\n",
        "| **Multi-dimensional Support** | Supports multi-dimensional arrays (e.g., matrices, tensors) | Only supports one-dimensional nesting |\n",
        "| **Indexing & Slicing** | More powerful, supports broadcasting | Basic indexing, no broadcasting |\n",
        "\n",
        "---\n",
        "\n",
        "### **Example 1: Speed Comparison**\n",
        "```python\n",
        "import numpy as np\n",
        "import time\n",
        "\n",
        "# Using NumPy\n",
        "arr = np.arange(1_000_000)\n",
        "start = time.time()\n",
        "arr = arr * 2  # Vectorized operation\n",
        "end = time.time()\n",
        "print(\"NumPy Time:\", end - start)\n",
        "\n",
        "# Using Python List\n",
        "lst = list(range(1_000_000))\n",
        "start = time.time()\n",
        "lst = [x * 2 for x in lst]  # Loop-based operation\n",
        "end = time.time()\n",
        "print(\"Python List Time:\", end - start)\n",
        "```\n",
        " **NumPy is significantly faster because it avoids Python loops and runs in C.**\n",
        "\n",
        "---\n",
        "\n",
        "### **Example 2: Memory Usage**\n",
        "```python\n",
        "import sys\n",
        "\n",
        "lst = [1, 2, 3, 4, 5]\n",
        "arr = np.array(lst)\n",
        "\n",
        "print(\"Python List Size:\", sys.getsizeof(lst))\n",
        "print(\"NumPy Array Size:\", sys.getsizeof(arr))\n",
        "```\n",
        "**NumPy uses less memory because it stores elements in a contiguous block.**\n",
        "\n",
        "---\n",
        "\n",
        "### **Example 3: Element-wise Operations**\n",
        "#### ✅ **Using NumPy (Vectorized)**\n",
        "```python\n",
        "arr = np.array([1, 2, 3, 4])\n",
        "result = arr * 2  # Works on the entire array at once\n",
        "print(result)  # Output: [2 4 6 8]\n",
        "```\n",
        "\n",
        "####  **Using Python List (Loop Required)**\n",
        "```python\n",
        "lst = [1, 2, 3, 4]\n",
        "result = [x * 2 for x in lst]  # Manual loop required\n",
        "print(result)  # Output: [2, 4, 6, 8]\n",
        "```\n",
        "\n",
        "\n"
      ],
      "metadata": {
        "id": "Kf7V0VtTbe4v"
      }
    },
    {
      "cell_type": "markdown",
      "source": [
        "Q7)  What is a heatmap, and when should it be used?"
      ],
      "metadata": {
        "id": "XltzyRORb1HZ"
      }
    },
    {
      "cell_type": "markdown",
      "source": [
        "--->    ### **What is a Heatmap?**  \n",
        "A **heatmap** is a **graphical representation of data using colors** to indicate different values. It helps visualize relationships, patterns, and trends in large datasets.\n",
        "\n",
        "In Python, **Seaborn** provides an easy way to create heatmaps using the `sns.heatmap()` function.\n",
        "\n",
        "---\n",
        "\n",
        "### **When Should a Heatmap Be Used?**\n",
        "1. **To Show Correlation Between Variables** 📊  \n",
        "   - Used in **data analysis** to visualize relationships between numerical variables.  \n",
        "   - Example: A **correlation heatmap** (`df.corr()`) shows how strongly two variables are related.\n",
        "\n",
        "2. **To Represent Large Data Matrices**\n",
        "   - Useful for showing patterns in **multi-dimensional datasets** (e.g., confusion matrices in ML).  \n",
        "\n",
        "3. **To Detect Missing Data**\n",
        "   - Helps identify missing values (`NaN`) in datasets using `sns.heatmap(df.isnull())`.  \n",
        "\n",
        "4. **To Visualize Trends in Time-Series Data**\n",
        "   - Example: Monthly sales performance of different regions.  \n",
        "\n",
        "---\n",
        "\n",
        "### **Example: Correlation Heatmap Using Seaborn**\n",
        "```python\n",
        "import seaborn as sns\n",
        "import pandas as pd\n",
        "import numpy as np\n",
        "import matplotlib.pyplot as plt\n",
        "\n",
        "# Sample Data\n",
        "data = {\n",
        "    'A': [1, 2, 3, 4, 5],\n",
        "    'B': [2, 4, 6, 8, 10],\n",
        "    'C': [5, 3, 2, 8, 7]\n",
        "}\n",
        "\n",
        "df = pd.DataFrame(data)\n",
        "\n",
        "# Compute correlation matrix\n",
        "corr = df.corr()\n",
        "\n",
        "# Create heatmap\n",
        "sns.heatmap(corr, annot=True, cmap='coolwarm', linewidths=0.5)\n",
        "plt.show()\n",
        "```\n",
        "**Output:**  A heatmap showing correlations between columns (`A`, `B`, `C`).   \n",
        "\n"
      ],
      "metadata": {
        "id": "WJQQFNVocDn7"
      }
    },
    {
      "cell_type": "markdown",
      "source": [
        " Q8)  What does the term “vectorized operation” mean in NumPy?"
      ],
      "metadata": {
        "id": "64gA31_EcSCp"
      }
    },
    {
      "cell_type": "markdown",
      "source": [
        "--->  ### **What Does \"Vectorized Operation\" Mean in NumPy?**  \n",
        "A **vectorized operation** in NumPy refers to performing **element-wise operations on entire arrays without using explicit loops**. This makes computations significantly **faster and more efficient** by leveraging **low-level optimizations written in C**.\n",
        "\n",
        "---\n",
        "\n",
        "### **Why Use Vectorized Operations?**\n",
        "✅ **Faster Execution:** Avoids Python loops, using optimized C implementations.  \n",
        "✅ **Cleaner Code:** Operations are written in a single line instead of multiple loops.  \n",
        "✅ **Memory Efficiency:** Reduces overhead and improves performance.  \n",
        "\n",
        "---\n",
        "\n",
        "### **Example: Without Vectorization (Using Loops)**\n",
        "```python\n",
        "import numpy as np\n",
        "import time\n",
        "\n",
        "# Create an array of 1 million numbers\n",
        "size = 1_000_000\n",
        "a = np.arange(size)\n",
        "b = np.arange(size)\n",
        "c = np.zeros(size)\n",
        "\n",
        "# Using Python Loop (Slow)\n",
        "start = time.time()\n",
        "for i in range(size):\n",
        "    c[i] = a[i] + b[i]\n",
        "end = time.time()\n",
        "print(\"Loop Time:\", end - start)\n",
        "```\n",
        "\n",
        "---\n",
        "\n",
        "### **Example: With Vectorized NumPy Operation**\n",
        "```python\n",
        "# Using Vectorized NumPy Operation (Fast)\n",
        "start = time.time()\n",
        "c = a + b  # Element-wise addition\n",
        "end = time.time()\n",
        "print(\"NumPy Vectorized Time:\", end - start)\n",
        "```\n",
        "\n",
        "🔹 **Why is NumPy Faster?**  \n",
        "- The loop version executes **one operation per iteration**, while NumPy processes **millions of operations at once**.  \n",
        "- NumPy operations are implemented in **C and Fortran**, avoiding the overhead of Python loops.  \n",
        "\n",
        "---\n",
        "\n",
        "### **Other Examples of Vectorized Operations**\n",
        "#### ✅ **Arithmetic Operations**\n",
        "```python\n",
        "arr = np.array([1, 2, 3, 4])\n",
        "print(arr * 2)  # [2, 4, 6, 8] (Element-wise multiplication)\n",
        "```\n",
        "\n",
        "#### ✅ **Mathematical Functions**\n",
        "```python\n",
        "arr = np.array([0, np.pi/2, np.pi])\n",
        "print(np.sin(arr))  # Applies sin() to each element\n",
        "```\n",
        "\n",
        "#### ✅ **Boolean Filtering**\n",
        "```python\n",
        "arr = np.array([10, 20, 30, 40])\n",
        "print(arr[arr > 20])  # Output: [30 40]\n",
        "```\n",
        "\n"
      ],
      "metadata": {
        "id": "y9ONTZuYcmP7"
      }
    },
    {
      "cell_type": "markdown",
      "source": [
        " Q9) How does Matplotlib differ from Plotly ?"
      ],
      "metadata": {
        "id": "NPqPqxX6c2DW"
      }
    },
    {
      "cell_type": "markdown",
      "source": [
        "--->   ### **Matplotlib vs. Plotly: Key Differences**  \n",
        "\n",
        "Matplotlib and Plotly are two popular Python libraries for data visualization, but they have **different strengths** depending on the use case.  \n",
        "\n",
        "| Feature        | **Matplotlib** 🖼 | **Plotly** 🌍 |\n",
        "|--------------|----------------|---------------|\n",
        "| **Type of Library** | Static plotting (2D & 3D) | Interactive & dynamic plotting |\n",
        "| **Interactivity** | Limited (with `plt.show()`) | Fully interactive (hover, zoom, pan) |\n",
        "| **Customization** | Highly customizable but requires more code | Easier to customize with built-in themes |\n",
        "| **Ease of Use** | More code needed for advanced plots | Simple syntax, ready-to-use functions |\n",
        "| **Best For** | Scientific plots, publication-quality figures | Web-based dashboards, interactive visualizations |\n",
        "| **Dependencies** | Only Matplotlib needed | Requires Dash (for web apps) |\n",
        "| **Output Format** | PNG, SVG, PDF | HTML, JSON, PNG, interactive web graphics |\n",
        "\n",
        "---\n",
        "\n",
        "### **When to Use Matplotlib?** ✅  \n",
        "✔ **For static visualizations** (e.g., research papers, reports).  \n",
        "✔ **When you need full customization** (e.g., LaTeX labels, precise control).  \n",
        "✔ **For working with Seaborn** (Seaborn is built on Matplotlib).  \n",
        "\n",
        "#### **Example: Matplotlib Line Plot**\n",
        "```python\n",
        "import matplotlib.pyplot as plt\n",
        "\n",
        "x = [1, 2, 3, 4]\n",
        "y = [10, 20, 25, 30]\n",
        "\n",
        "plt.plot(x, y, marker='o', linestyle='--', color='b')\n",
        "plt.xlabel(\"X-axis\")\n",
        "plt.ylabel(\"Y-axis\")\n",
        "plt.title(\"Matplotlib Example\")\n",
        "plt.show()\n",
        "```\n",
        " **Static, requires manual updates for interactivity.**  \n",
        "\n",
        "---\n",
        "\n",
        "### **When to Use Plotly?** ✅  \n",
        "✔ **For interactive dashboards and web applications**.  \n",
        "✔ **When you need zoom, hover, and tooltips built-in**.  \n",
        "✔ **For quick and visually appealing visualizations**.  \n",
        "\n",
        "#### **Example: Plotly Interactive Line Chart**\n",
        "```python\n",
        "import plotly.express as px\n",
        "\n",
        "df = px.data.gapminder().query(\"country == 'India'\")\n",
        "fig = px.line(df, x=\"year\", y=\"gdpPercap\", title=\"GDP Over Time\")\n",
        "fig.show()\n",
        "```\n",
        " **Fully interactive with zoom, tooltips, and panning by default.**  \n",
        "\n",
        "---\n",
        "\n",
        "### **Which One Should You Choose?**  \n",
        "- **Use Matplotlib** if you need **static, publication-quality** plots with deep customization.  \n",
        "- **Use Plotly** if you need **interactive, web-based** visualizations with **less code**.  \n",
        "\n"
      ],
      "metadata": {
        "id": "pm3YshJMdJFW"
      }
    },
    {
      "cell_type": "markdown",
      "source": [
        "Q10)  What is the significance of hierarchical indexing in Pandas?\n"
      ],
      "metadata": {
        "id": "c8NS2c-wdiYf"
      }
    },
    {
      "cell_type": "markdown",
      "source": [
        "--->   Hierarchical indexing (also called MultiIndex) in **Pandas** allows for multiple levels of indexing on a single axis (rows or columns), making it easier to work with **higher-dimensional data in a lower-dimensional DataFrame or Series**.\n",
        "\n",
        "### **Significance of Hierarchical Indexing**\n",
        "1. **Multi-level Organization**  \n",
        "   - Enables storing and analyzing **data with multiple attributes** efficiently.  \n",
        "   - Example: Sales data by country, state, and city.\n",
        "\n",
        "2. **Enhanced Data Retrieval & Grouping**  \n",
        "   - Enables fast lookups and complex queries across multiple dimensions.  \n",
        "   - Example: Selecting all sales records for a specific country.\n",
        "\n",
        "3. **Supports Advanced Aggregations**  \n",
        "   - Helps in **grouping and aggregating** data at different levels.  \n",
        "   - Example: Summing sales at the state level before drilling down to city-level details.\n",
        "\n",
        "4. **Better Representation of Multi-dimensional Data**  \n",
        "   - Allows a DataFrame to behave like a **pivot table**, making it easy to visualize and analyze relationships.\n",
        "\n",
        "5. **Indexing and Slicing Flexibility**  \n",
        "   - Supports **partial indexing**, where you can select subsets of data using just part of the index.  \n",
        "   - Example: Retrieving all data from a particular year without specifying other index levels.\n",
        "\n",
        "### **Example of Hierarchical Indexing**\n",
        "```python\n",
        "import pandas as pd\n",
        "\n",
        "# Creating a MultiIndex DataFrame\n",
        "arrays = [\n",
        "    ['USA', 'USA', 'Canada', 'Canada'],\n",
        "    ['New York', 'California', 'Ontario', 'Quebec']\n",
        "]\n",
        "index = pd.MultiIndex.from_tuples(list(zip(*arrays)), names=[\"Country\", \"State\"])\n",
        "data = pd.DataFrame({'Population': [8.4, 39.2, 14.5, 8.3]}, index=index)\n",
        "\n",
        "print(data)\n",
        "```\n",
        "**Output:**\n",
        "```\n",
        "                    Population\n",
        "Country State\n",
        "USA     New York        8.4\n",
        "        California     39.2\n",
        "Canada  Ontario       14.5\n",
        "        Quebec         8.3\n",
        "```\n",
        "\n",
        "### **Operations with Hierarchical Indexing**\n",
        "- **Accessing data by level**  \n",
        "  ```python\n",
        "  print(data.loc['USA'])  # Retrieves all USA data\n",
        "  ```\n",
        "- **Cross-section with `.xs()`**  \n",
        "  ```python\n",
        "  print(data.xs('California', level='State'))  # Retrieves data only for California\n",
        "  ```\n",
        "- **Swapping levels**  \n",
        "  ```python\n",
        "  print(data.swaplevel())\n",
        "  ```\n",
        "- **Sorting index**  \n",
        "  ```python\n",
        "  print(data.sort_index(level=\"State\"))\n",
        "  ```\n",
        "\n",
        "### **Conclusion**\n",
        "Hierarchical indexing is **powerful for handling complex datasets**, making it easier to analyze, group, and manipulate data efficiently. It's particularly useful in **time series, multi-category data, and pivot table-like structures**."
      ],
      "metadata": {
        "id": "jinNQAzfdzjk"
      }
    },
    {
      "cell_type": "markdown",
      "source": [
        "Q11) What is the role of Seaborn’s pairplot() function?"
      ],
      "metadata": {
        "id": "-HF8ZPkpfD8n"
      }
    },
    {
      "cell_type": "markdown",
      "source": [
        "--->   ### **Role of Seaborn’s `pairplot()` Function**  \n",
        "Seaborn’s **`pairplot()`** function is used for **visualizing pairwise relationships** between variables in a dataset. It creates a **grid of scatter plots** for numerical variables and can also show distributions using histograms or density plots along the diagonal.\n",
        "\n",
        "---\n",
        "\n",
        "### **Key Uses of `pairplot()`**\n",
        "1. **Exploratory Data Analysis (EDA)**  \n",
        "   - Helps in detecting **patterns, trends, correlations, and outliers** in numerical data.\n",
        "   - Provides insights into **relationships between variables**.\n",
        "\n",
        "2. **Visualizing Pairwise Relationships**  \n",
        "   - Creates scatter plots for each variable **against every other variable**.\n",
        "   - Diagonal plots show **distribution** (histogram/kde) of individual variables.\n",
        "\n",
        "3. **Class-wise Differentiation with Hue**  \n",
        "   - Can **color** points based on a categorical variable (e.g., species in an iris dataset).\n",
        "\n",
        "---\n",
        "\n",
        "### **Example Usage**\n",
        "```python\n",
        "import seaborn as sns\n",
        "import matplotlib.pyplot as plt\n",
        "\n",
        "# Load an example dataset\n",
        "iris = sns.load_dataset(\"iris\")\n",
        "\n",
        "# Create a pairplot\n",
        "sns.pairplot(iris, hue=\"species\", diag_kind=\"kde\")\n",
        "plt.show()\n",
        "```\n",
        "\n",
        "**Explanation:**\n",
        "- `iris` dataset contains **4 numerical features** and **1 categorical target (`species`)**.\n",
        "- `hue=\"species\"` → Colors points based on species.\n",
        "- `diag_kind=\"kde\"` → Shows **kernel density estimate (KDE)** instead of histograms.\n",
        "\n",
        "---\n",
        "\n",
        "### **Customizations in `pairplot()`**\n",
        "| Parameter | Description |\n",
        "|-----------|-------------|\n",
        "| `hue` | Colors points based on a categorical variable. |\n",
        "| `diag_kind` | Type of plot for diagonal (`hist` or `kde`). |\n",
        "| `kind` | Scatter (`scatter`) or regression (`reg`) plots. |\n",
        "| `markers` | Different markers for categories. |\n",
        "| `palette` | Custom colors for hue categories. |\n",
        "| `height` | Size of each subplot. |\n",
        "\n"
      ],
      "metadata": {
        "id": "S6XebOHMfir8"
      }
    },
    {
      "cell_type": "markdown",
      "source": [
        "Q12) What is the purpose of the describe() function in Pandas ?\n"
      ],
      "metadata": {
        "id": "X2nLlXI5fpBY"
      }
    },
    {
      "cell_type": "markdown",
      "source": [
        "--->   ### **Purpose of the `describe()` Function in Pandas**  \n",
        "The `describe()` function in **Pandas** provides a **summary of statistical measures** for numerical (or categorical) columns in a DataFrame or Series. It is widely used in **Exploratory Data Analysis (EDA)** to understand the distribution and characteristics of the dataset.\n",
        "\n",
        "---\n",
        "\n",
        "### **Key Features of `describe()`**\n",
        "1. **Generates Summary Statistics**  \n",
        "   - For numerical data: Provides count, mean, standard deviation, min, max, and quartiles.  \n",
        "   - For categorical data: Provides count, unique values, top (most frequent) value, and frequency.\n",
        "\n",
        "2. **Helps in Data Understanding**  \n",
        "   - Identifies **missing values** (via count).  \n",
        "   - Detects **outliers** (via min/max).  \n",
        "   - Understands **spread and distribution** (via std, percentiles).\n",
        "\n",
        "---\n",
        "\n",
        "### **Example Usage**\n",
        "#### **For Numerical Data**\n",
        "```python\n",
        "import pandas as pd\n",
        "\n",
        "# Sample DataFrame\n",
        "data = {\n",
        "    \"Age\": [25, 30, 35, 40, 29, 31, 28],\n",
        "    \"Salary\": [50000, 60000, 75000, 80000, 56000, 62000, 58000]\n",
        "}\n",
        "df = pd.DataFrame(data)\n",
        "\n",
        "# Summary statistics\n",
        "print(df.describe())\n",
        "```\n",
        "\n",
        "**Output:**\n",
        "```\n",
        "             Age       Salary\n",
        "count   7.000000      7.000000\n",
        "mean   31.142857  63000.000000\n",
        "std     5.376453  10752.831578\n",
        "min    25.000000  50000.000000\n",
        "25%    28.500000  57000.000000\n",
        "50%    30.000000  60000.000000\n",
        "75%    35.000000  72000.000000\n",
        "max    40.000000  80000.000000\n",
        "```\n",
        "- **count** → Number of non-null values.  \n",
        "- **mean** → Average value.  \n",
        "- **std** → Standard deviation (spread of values).  \n",
        "- **min, max** → Minimum and maximum values.  \n",
        "- **25%, 50%, 75%** → Quartiles (percentile distribution).\n",
        "\n",
        "---\n",
        "\n",
        "#### **For Categorical Data**\n",
        "```python\n",
        "data = {\n",
        "    \"Gender\": [\"Male\", \"Female\", \"Male\", \"Female\", \"Male\", \"Female\", \"Male\"],\n",
        "    \"City\": [\"NY\", \"LA\", \"NY\", \"LA\", \"NY\", \"LA\", \"NY\"]\n",
        "}\n",
        "df = pd.DataFrame(data)\n",
        "\n",
        "# Summary for categorical columns\n",
        "print(df.describe(include=\"object\"))\n",
        "```\n",
        "\n",
        "**Output:**\n",
        "```\n",
        "       Gender City\n",
        "count       7    7\n",
        "unique      2    2\n",
        "top      Male   NY\n",
        "freq        4    4\n",
        "```\n",
        "- **unique** → Number of distinct values.  \n",
        "- **top** → Most frequently occurring value.  \n",
        "- **freq** → Frequency of the most common value.\n",
        "\n",
        "---\n",
        "\n",
        "### **Customizations**\n",
        "- **Include all columns:**  \n",
        "  ```python\n",
        "  df.describe(include=\"all\")\n",
        "  ```\n",
        "- **Limit to specific data types (numerical, categorical, etc.):**  \n",
        "  ```python\n",
        "  df.describe(include=[float, int])  # Only numerical\n",
        "  df.describe(include=[object])  # Only categorical\n",
        "  ```\n"
      ],
      "metadata": {
        "id": "Heydd7vsf5rM"
      }
    },
    {
      "cell_type": "markdown",
      "source": [
        "Q13) Why is handling missing data important in Pandas ?"
      ],
      "metadata": {
        "id": "y_GbI33NgF3l"
      }
    },
    {
      "cell_type": "markdown",
      "source": [
        "--->   ### **Why is Handling Missing Data Important in Pandas?**  \n",
        "Missing data is a common issue in real-world datasets, and handling it properly is crucial to ensure **accurate analysis, reliable models, and meaningful insights**. If left unaddressed, missing values can lead to **biased results, errors in computations, or even failed analyses**.\n",
        "\n",
        "---\n",
        "\n",
        "### **Key Reasons for Handling Missing Data**\n",
        "1. **Ensures Data Integrity & Accuracy**  \n",
        "   - Missing values can skew **statistical summaries**, leading to **misinterpretations**.  \n",
        "   - Example: If many values are missing in a column, the mean may be misleading.\n",
        "\n",
        "2. **Prevents Errors in Computations**  \n",
        "   - Many **Pandas operations and ML algorithms** do not handle missing values by default.  \n",
        "   - Example: Calculating mean or sum on a column with `NaN` values may produce incorrect results.\n",
        "\n",
        "3. **Improves Model Performance in Machine Learning**  \n",
        "   - Many ML models **cannot handle missing data** and will fail or produce incorrect predictions.  \n",
        "   - Filling (`imputing`) missing values ensures **models train effectively**.\n",
        "\n",
        "4. **Enhances Data Visualization & Analysis**  \n",
        "   - Plots and graphs may be **distorted** by missing values.  \n",
        "   - Example: A histogram may appear different if a significant portion of data is missing.\n",
        "\n",
        "5. **Avoids Data Bias**  \n",
        "   - Simply **removing missing data** without analysis may introduce **bias**.  \n",
        "   - Example: If missing values are from a specific group (e.g., missing ages only for seniors), removing them may distort conclusions.\n",
        "\n",
        "---\n",
        "\n",
        "### **Handling Missing Data in Pandas**\n",
        "#### **1. Identifying Missing Data**\n",
        "```python\n",
        "import pandas as pd\n",
        "\n",
        "# Sample DataFrame\n",
        "data = {'Name': ['Alice', 'Bob', 'Charlie', 'David'],\n",
        "        'Age': [25, None, 30, 28],\n",
        "        'Salary': [50000, 60000, None, 70000]}\n",
        "\n",
        "df = pd.DataFrame(data)\n",
        "\n",
        "# Check for missing values\n",
        "print(df.isnull())   # Shows True/False for NaN values\n",
        "print(df.isnull().sum())  # Counts missing values per column\n",
        "```\n",
        "\n",
        "#### **2. Removing Missing Values**\n",
        "- **Drop rows with missing values**  \n",
        "  ```python\n",
        "  df.dropna(inplace=True)  # Removes rows with any NaN values\n",
        "  ```\n",
        "- **Drop columns with missing values**  \n",
        "  ```python\n",
        "  df.dropna(axis=1, inplace=True)  # Removes columns with NaN values\n",
        "  ```\n",
        "\n",
        "#### **3. Filling (Imputing) Missing Values**\n",
        "- **Fill with a specific value**  \n",
        "  ```python\n",
        "  df.fillna(0, inplace=True)  # Replaces NaNs with 0\n",
        "  ```\n",
        "- **Fill with mean/median/mode**  \n",
        "  ```python\n",
        "  df['Age'].fillna(df['Age'].mean(), inplace=True)  # Replace NaN with column mean\n",
        "  df['Age'].fillna(df['Age'].median(), inplace=True)  # Replace with median\n",
        "  df['Age'].fillna(df['Age'].mode()[0], inplace=True)  # Replace with mode (most frequent)\n",
        "  ```\n",
        "- **Forward-fill (previous value)**  \n",
        "  ```python\n",
        "  df.fillna(method='ffill', inplace=True)\n",
        "  ```\n",
        "- **Backward-fill (next value)**  \n",
        "  ```python\n",
        "  df.fillna(method='bfill', inplace=True)\n",
        "  ```\n",
        "\n",
        "---\n",
        "\n",
        "### **Conclusion**\n",
        "Handling missing data is **crucial for accurate analysis and reliable models**. Depending on the **context and dataset**, you may **remove, fill, or impute** missing values."
      ],
      "metadata": {
        "id": "4CdH-1LZgQRa"
      }
    },
    {
      "cell_type": "markdown",
      "source": [
        "Q14) What are the benefits of using Plotly for data visualization ?"
      ],
      "metadata": {
        "id": "53x_2AvIgt-6"
      }
    },
    {
      "cell_type": "markdown",
      "source": [
        "--->     **Benefits of Using Plotly for Data Visualization**   \n",
        "\n",
        "Plotly is a **powerful, interactive, and web-based** data visualization library that makes it easy to create **high-quality, interactive plots** with minimal code.  \n",
        "\n",
        "---\n",
        "\n",
        "### **1️⃣ Fully Interactive Visualizations**   \n",
        "✅ Zoom, pan, hover, and tooltip support **by default**.  \n",
        "✅ No extra code needed to enable interactivity.  \n",
        "\n",
        "**Example:**\n",
        "```python\n",
        "import plotly.express as px\n",
        "\n",
        "df = px.data.gapminder()\n",
        "fig = px.scatter(df, x=\"gdpPercap\", y=\"lifeExp\", color=\"continent\", hover_name=\"country\")\n",
        "fig.show()\n",
        "```\n",
        " **Hover over points to see extra details dynamically!**  \n",
        "\n",
        "---\n",
        "\n",
        "### **2️⃣ Beautiful & Modern Aesthetics**  \n",
        "✅ Attractive, publication-ready themes (e.g., `plotly_dark`, `seaborn`).  \n",
        "✅ Automatic **color scaling, legends, and tooltips**.  \n",
        "\n",
        "---\n",
        "\n",
        "### **3️⃣ Easy-to-Use API** ⏳  \n",
        "✅ Simple **one-liner** functions for complex plots.  \n",
        "✅ Works well with **Pandas DataFrames**.  \n",
        "\n",
        "**Example: Quick Line Chart**\n",
        "```python\n",
        "import plotly.express as px\n",
        "\n",
        "df = px.data.gapminder().query(\"country == 'India'\")\n",
        "fig = px.line(df, x=\"year\", y=\"gdpPercap\", title=\"India's GDP Over Time\")\n",
        "fig.show()\n",
        "```\n",
        " **No need to manually configure legends, labels, or markers!**  \n",
        "\n",
        "---\n",
        "\n",
        "### **4️⃣ Supports a Wide Range of Charts**\n",
        "✅ Line, bar, scatter, histogram, bubble, pie charts, etc.  \n",
        "✅ Advanced visualizations: 3D plots, choropleth maps, and animations.  \n",
        "\n",
        "---\n",
        "\n",
        "### **5️⃣ Seamless Integration with Dash for Web Apps**  \n",
        "✅ **Build interactive dashboards** with `Dash`, Plotly’s web framework.  \n",
        "✅ Deploy visualizations in **Flask, Django, Jupyter, or even web browsers**.  \n",
        "\n",
        "---\n",
        "\n",
        "### **6️⃣ Works Across Multiple Platforms**   \n",
        "✅ **Outputs in HTML** (no extra software needed).  \n",
        "✅ Compatible with **Jupyter Notebooks, Python scripts, and web browsers**.  \n",
        "\n"
      ],
      "metadata": {
        "id": "rbzS-b6vg2JY"
      }
    },
    {
      "cell_type": "markdown",
      "source": [
        "Q15) How does NumPy handle multidimensional arrays ?"
      ],
      "metadata": {
        "id": "NzPjouCjhUvB"
      }
    },
    {
      "cell_type": "markdown",
      "source": [
        "--->  ### **How Does NumPy Handle Multidimensional Arrays?**  \n",
        "\n",
        "NumPy handles **multidimensional arrays (ndarrays)** efficiently using its `numpy.ndarray` object. These arrays allow for **fast mathematical operations, slicing, reshaping, and broadcasting** across multiple dimensions.  \n",
        "\n",
        "---\n",
        "\n",
        "## **1️⃣ Creating Multidimensional Arrays**\n",
        "A NumPy array can have **one, two, or more dimensions** (e.g., matrices, tensors).  \n",
        "\n",
        "**Example: Creating a 2D Array (Matrix)**\n",
        "```python\n",
        "import numpy as np\n",
        "\n",
        "arr_2d = np.array([[1, 2, 3], [4, 5, 6]])  # 2D array\n",
        "print(arr_2d)\n",
        "```\n",
        "📌 **Shape:** `(2,3)` → 2 rows, 3 columns  \n",
        "\n",
        "**Example: Creating a 3D Array (Tensor)**\n",
        "```python\n",
        "arr_3d = np.array([[[1, 2], [3, 4]], [[5, 6], [7, 8]]])\n",
        "print(arr_3d)\n",
        "```\n",
        "📌 **Shape:** `(2,2,2)` → 2 blocks, 2 rows, 2 columns  \n",
        "\n",
        "---\n",
        "\n",
        "## **2️⃣ Key Properties of Multidimensional Arrays**\n",
        "```python\n",
        "print(arr_2d.shape)  # (2, 3) - Shape (rows, columns)\n",
        "print(arr_2d.ndim)   # 2 - Number of dimensions\n",
        "print(arr_2d.size)   # 6 - Total number of elements\n",
        "print(arr_2d.dtype)  # int32 - Data type of elements\n",
        "```\n",
        "\n",
        "---\n",
        "\n",
        "## **3️⃣ Indexing & Slicing in Multidimensional Arrays**\n",
        "✅ **Access elements using multiple indices:**  \n",
        "```python\n",
        "print(arr_2d[1, 2])  # Access row index 1, column index 2 → Output: 6\n",
        "```\n",
        "\n",
        "✅ **Slice specific rows/columns:**  \n",
        "```python\n",
        "print(arr_2d[:, 1])  # Get all rows, column index 1 → Output: [2 5]\n",
        "```\n",
        "\n",
        "---\n",
        "\n",
        "## **4️⃣ Reshaping and Transposing Arrays**\n",
        "✅ **Reshape an array into a different shape:**  \n",
        "```python\n",
        "arr = np.array([1, 2, 3, 4, 5, 6])\n",
        "reshaped = arr.reshape(2, 3)  # Reshape to 2x3 matrix\n",
        "print(reshaped)\n",
        "```\n",
        "\n",
        "✅ **Transpose a matrix (swap rows and columns):**  \n",
        "```python\n",
        "print(arr_2d.T)  # Transpose → Output: [[1 4] [2 5] [3 6]]\n",
        "```\n",
        "\n",
        "---\n",
        "\n",
        "## **5️⃣ Broadcasting in Multidimensional Arrays**\n",
        "NumPy allows operations on arrays of different shapes **without looping**.\n",
        "\n",
        "✅ **Example: Adding a 1D array to a 2D array**  \n",
        "```python\n",
        "arr = np.array([[1, 2, 3], [4, 5, 6]])\n",
        "vec = np.array([10, 20, 30])\n",
        "\n",
        "print(arr + vec)  # Broadcasting adds vec to each row\n",
        "\n"
      ],
      "metadata": {
        "id": "pITGXPTxh1GM"
      }
    },
    {
      "cell_type": "markdown",
      "source": [
        "Q16) What is the role of Bokeh in data visualization?"
      ],
      "metadata": {
        "id": "YLNU_aA3iP0D"
      }
    },
    {
      "cell_type": "markdown",
      "source": [
        "--->   ### **Role of Bokeh in Data Visualization**\n",
        "\n",
        "**Bokeh** is a **Python library** for creating **interactive, web-ready visualizations** with minimal effort. Unlike Matplotlib (which generates static images), Bokeh is designed for **modern, browser-based graphics** with interactivity.\n",
        "\n",
        "---\n",
        "\n",
        "## **🔹 Key Features of Bokeh**\n",
        "✅ **Interactive Plots** – Hover, zoom, pan, and tooltips by default.  \n",
        "✅ **Web-Ready** – Generates HTML & JavaScript-based visualizations.  \n",
        "✅ **High Performance** – Handles large datasets efficiently.  \n",
        "✅ **Flexible Output** – Works in Jupyter Notebooks, standalone HTML files, and web apps.  \n",
        "✅ **Integration with Dashboards** – Works with Flask, Django, and Bokeh Server for real-time data apps.  \n",
        "\n",
        "---\n",
        "\n",
        "## ** Example: Simple Interactive Line Chart**\n",
        "```python\n",
        "from bokeh.plotting import figure, show\n",
        "from bokeh.io import output_notebook\n",
        "\n",
        "output_notebook()  # Enables inline display in Jupyter Notebooks\n",
        "\n",
        "# Create figure\n",
        "p = figure(title=\"Interactive Line Plot\", x_axis_label=\"X\", y_axis_label=\"Y\")\n",
        "\n",
        "# Add a line\n",
        "p.line([1, 2, 3, 4, 5], [6, 7, 8, 7, 6], line_width=2)\n",
        "\n",
        "show(p)  # Display plot\n",
        "```"
      ],
      "metadata": {
        "id": "QK1T-beHiifi"
      }
    },
    {
      "cell_type": "markdown",
      "source": [
        "Q17) Explain the difference between apply() and map() in Pandas."
      ],
      "metadata": {
        "id": "a7qe-8WJivck"
      }
    },
    {
      "cell_type": "markdown",
      "source": [
        "--->   ### **Difference Between `apply()` and `map()` in Pandas**  \n",
        "\n",
        "Both `apply()` and `map()` are used to apply functions to Pandas data structures, but they differ in their **scope** and **usage**.\n",
        "\n",
        "---\n",
        "\n",
        "## **1️⃣ `map()` – Works on Series (Single Column)**\n",
        "- **Used only for Pandas Series** (not DataFrames).  \n",
        "- **Applies a function element-wise** to a single column.  \n",
        "- Can take a **Python function, dictionary, or lambda function**.  \n",
        "\n",
        "### **Example: Using `map()` on a Series**\n",
        "```python\n",
        "import pandas as pd\n",
        "\n",
        "# Sample data\n",
        "df = pd.DataFrame({'Name': ['Alice', 'Bob', 'Charlie'], 'Age': [25, 30, 35]})\n",
        "\n",
        "# Apply a function to a single column\n",
        "df['Age'] = df['Age'].map(lambda x: x + 5)\n",
        "print(df)\n",
        "```\n",
        " **Output:**\n",
        "```\n",
        "     Name  Age\n",
        "0   Alice   30\n",
        "1     Bob   35\n",
        "2  Charlie   40\n",
        "```\n",
        "✅ **`map()` is ideal for modifying a single column element-wise.**  \n",
        "\n",
        "---\n",
        "\n",
        "## **2️⃣ `apply()` – Works on Both Series & DataFrames**\n",
        "- **Can be used on both a Series and a DataFrame**.  \n",
        "- **Works for row-wise or column-wise operations in DataFrames** (`axis=0` for columns, `axis=1` for rows).  \n",
        "- More **flexible** than `map()` as it allows **custom functions** on multiple columns.  \n",
        "\n",
        "### **Example 1: Using `apply()` on a Series**\n",
        "```python\n",
        "df['Age'] = df['Age'].apply(lambda x: x * 2)  # Double each age\n",
        "print(df)\n",
        "```\n",
        "\n",
        "### **Example 2: Using `apply()` on a DataFrame (Row-wise)**\n",
        "```python\n",
        "df['Name_Length'] = df.apply(lambda row: len(row['Name']), axis=1)\n",
        "print(df)\n",
        "```\n",
        " **Output:**\n",
        "```\n",
        "     Name  Age  Name_Length\n",
        "0   Alice   60           5\n",
        "1     Bob   70           3\n",
        "2  Charlie   80           7\n",
        "```\n",
        "✅ **`apply()` is more versatile and works on multiple columns!**  \n",
        "\n",
        "---\n",
        "\n",
        "## **🔹 Key Differences**\n",
        "| Feature     | `map()`  | `apply()`  |\n",
        "|------------|-----------|-------------|\n",
        "| Works On   | Series (Single Column) | Series & DataFrames |\n",
        "| Type of Function | Element-wise | Row-wise (`axis=1`) or Column-wise (`axis=0`) |\n",
        "| Use Case   | Simple transformations | Complex operations involving multiple columns |\n",
        "| Flexibility | Less flexible | More powerful & versatile |\n",
        "\n",
        "\n",
        "\n"
      ],
      "metadata": {
        "id": "8wIMrV2Xi-QV"
      }
    },
    {
      "cell_type": "markdown",
      "source": [
        "Q18) What are some advanced features of NumPy?"
      ],
      "metadata": {
        "id": "2KK7Lev2jaFj"
      }
    },
    {
      "cell_type": "markdown",
      "source": [
        "--->   ### **Difference Between `apply()` and `map()` in Pandas**  \n",
        "\n",
        "Both `apply()` and `map()` are used to apply functions to Pandas data structures, but they differ in their **scope** and **usage**.\n",
        "\n",
        "---\n",
        "\n",
        "## **1️⃣ `map()` – Works on Series (Single Column)**\n",
        "- **Used only for Pandas Series** (not DataFrames).  \n",
        "- **Applies a function element-wise** to a single column.  \n",
        "- Can take a **Python function, dictionary, or lambda function**.  \n",
        "\n",
        "### **Example: Using `map()` on a Series**\n",
        "```python\n",
        "import pandas as pd\n",
        "\n",
        "# Sample data\n",
        "df = pd.DataFrame({'Name': ['Alice', 'Bob', 'Charlie'], 'Age': [25, 30, 35]})\n",
        "\n",
        "# Apply a function to a single column\n",
        "df['Age'] = df['Age'].map(lambda x: x + 5)\n",
        "print(df)\n",
        "```\n",
        "📌 **Output:**\n",
        "```\n",
        "     Name  Age\n",
        "0   Alice   30\n",
        "1     Bob   35\n",
        "2  Charlie   40\n",
        "```\n",
        "✅ **`map()` is ideal for modifying a single column element-wise.**  \n",
        "\n",
        "---\n",
        "\n",
        "## **2️⃣ `apply()` – Works on Both Series & DataFrames**\n",
        "- **Can be used on both a Series and a DataFrame**.  \n",
        "- **Works for row-wise or column-wise operations in DataFrames** (`axis=0` for columns, `axis=1` for rows).  \n",
        "- More **flexible** than `map()` as it allows **custom functions** on multiple columns.  \n",
        "\n",
        "### **Example 1: Using `apply()` on a Series**\n",
        "```python\n",
        "df['Age'] = df['Age'].apply(lambda x: x * 2)  # Double each age\n",
        "print(df)\n",
        "```\n",
        "\n",
        "### **Example 2: Using `apply()` on a DataFrame (Row-wise)**\n",
        "```python\n",
        "df['Name_Length'] = df.apply(lambda row: len(row['Name']), axis=1)\n",
        "print(df)\n",
        "```\n",
        "**Output:**\n",
        "```\n",
        "     Name  Age  Name_Length\n",
        "0   Alice   60           5\n",
        "1     Bob   70           3\n",
        "2  Charlie   80           7\n",
        "```\n",
        "✅ **`apply()` is more versatile and works on multiple columns!**  \n",
        "\n",
        "---\n",
        "\n",
        "## **🔹 Key Differences**\n",
        "| Feature     | `map()`  | `apply()`  |\n",
        "|------------|-----------|-------------|\n",
        "| Works On   | Series (Single Column) | Series & DataFrames |\n",
        "| Type of Function | Element-wise | Row-wise (`axis=1`) or Column-wise (`axis=0`) |\n",
        "| Use Case   | Simple transformations | Complex operations involving multiple columns |\n",
        "| Flexibility | Less flexible | More powerful & versatile |\n",
        "\n"
      ],
      "metadata": {
        "id": "_eMUxQCPj9WL"
      }
    },
    {
      "cell_type": "markdown",
      "source": [
        "Q19) How does Pandas simplify time series analysis?"
      ],
      "metadata": {
        "id": "Pp8tONl-kN7j"
      }
    },
    {
      "cell_type": "markdown",
      "source": [
        "--->   ### **Advanced Features of NumPy**\n",
        "NumPy is a powerful library for numerical computing in Python. Beyond its basic capabilities, it offers **advanced features** that enhance performance, efficiency, and flexibility. Here are some key advanced features:\n",
        "\n",
        "---\n",
        "\n",
        "### **1. Broadcasting**\n",
        "- Enables element-wise operations between arrays of **different shapes** without explicit looping.  \n",
        "- Saves memory and improves performance.\n",
        "\n",
        "**Example:**\n",
        "```python\n",
        "import numpy as np\n",
        "\n",
        "a = np.array([[1], [2], [3]])  # Shape (3,1)\n",
        "b = np.array([4, 5, 6])        # Shape (1,3)\n",
        "\n",
        "result = a + b  # Broadcasting automatically expands dimensions\n",
        "print(result)\n",
        "```\n",
        "**Output:**\n",
        "```\n",
        "[[5 6 7]\n",
        " [6 7 8]\n",
        " [7 8 9]]\n",
        "```\n",
        "\n",
        "---\n",
        "\n",
        "### **2. Vectorization**\n",
        "- Replaces explicit loops with **fast, optimized array operations**.\n",
        "- Uses **SIMD (Single Instruction, Multiple Data) operations**.\n",
        "\n",
        "**Example (without vectorization - slow loop):**\n",
        "```python\n",
        "arr = np.array([1, 2, 3, 4, 5])\n",
        "squared = np.zeros_like(arr)\n",
        "\n",
        "for i in range(len(arr)):\n",
        "    squared[i] = arr[i] ** 2\n",
        "print(squared)\n",
        "```\n",
        "**Better (vectorized operation - much faster):**\n",
        "```python\n",
        "squared = arr ** 2\n",
        "print(squared)\n",
        "```\n",
        "\n",
        "---\n",
        "\n",
        "### **3. NumPy Universal Functions (ufuncs)**\n",
        "- Fast element-wise operations like `np.add`, `np.exp`, `np.sin`, etc.\n",
        "- Supports **custom ufuncs** using `np.frompyfunc`.\n",
        "\n",
        "**Example:**\n",
        "```python\n",
        "a = np.array([1, 2, 3])\n",
        "b = np.array([4, 5, 6])\n",
        "\n",
        "result = np.multiply(a, b)  # Faster than looping\n",
        "print(result)  # Output: [ 4 10 18 ]\n",
        "```\n",
        "\n",
        "---\n",
        "\n",
        "### **4. Memory Mapping with `memmap` (Handling Large Data)**\n",
        "- Works with large datasets **without loading the entire file into memory**.\n",
        "- Useful for handling **multi-GB files**.\n",
        "\n",
        "**Example:**\n",
        "```python\n",
        "filename = 'large_data.dat'\n",
        "fp = np.memmap(filename, dtype='float32', mode='w+', shape=(10000, 10000))\n",
        "fp[:100, :100] = np.random.rand(100, 100)  # Modify only part of the file\n",
        "fp.flush()  # Write changes to disk\n",
        "```\n",
        "\n",
        "---\n",
        "\n",
        "### **5. Structured Arrays (Heterogeneous Data)**\n",
        "- Similar to **Pandas DataFrames**, allows defining **columns with different data types**.\n",
        "\n",
        "**Example:**\n",
        "```python\n",
        "dtype = [('name', 'U10'), ('age', 'i4'), ('weight', 'f4')]\n",
        "data = np.array([('Alice', 25, 55.5), ('Bob', 30, 72.3)], dtype=dtype)\n",
        "print(data['name'])  # Output: ['Alice' 'Bob']\n",
        "```\n",
        "\n",
        "---\n",
        "\n",
        "### **6. Advanced Indexing and Fancy Indexing**\n",
        "- Allows **indexing with boolean arrays, integer lists, or condition-based selections**.\n",
        "\n",
        "**Example:**\n",
        "```python\n",
        "arr = np.array([10, 20, 30, 40, 50])\n",
        "index = np.array([0, 2, 4])  # Select specific elements\n",
        "print(arr[index])  # Output: [10 30 50]\n",
        "```\n",
        "- **Boolean Masking**\n",
        "```python\n",
        "mask = arr > 25\n",
        "print(arr[mask])  # Output: [30 40 50]\n",
        "```\n",
        "\n",
        "---\n",
        "\n",
        "### **7. Fast Linear Algebra (`numpy.linalg`)**\n",
        "- NumPy provides optimized linear algebra functions, such as:\n",
        "  - **Matrix inversion:** `np.linalg.inv()`\n",
        "  - **Eigenvalues & eigenvectors:** `np.linalg.eig()`\n",
        "  - **Determinant:** `np.linalg.det()`\n",
        "  - **Singular Value Decomposition (SVD):** `np.linalg.svd()`\n",
        "\n",
        "**Example (Solving a Linear System Ax = B):**\n",
        "```python\n",
        "A = np.array([[3, 1], [1, 2]])\n",
        "B = np.array([9, 8])\n",
        "\n",
        "x = np.linalg.solve(A, B)  # Solves Ax = B\n",
        "print(x)  # Output: [2. 3.]\n",
        "```\n",
        "\n",
        "---\n",
        "\n",
        "### **8. Random Sampling and Monte Carlo Simulations**\n",
        "- NumPy's `random` module provides efficient random number generation.\n",
        "- Useful for **simulations, bootstrapping, and probabilistic modeling**.\n",
        "\n",
        "**Example (Simulating 1000 coin flips):**\n",
        "```python\n",
        "flips = np.random.choice(['H', 'T'], size=1000, p=[0.5, 0.5])\n",
        "print(np.unique(flips, return_counts=True))  # Count occurrences\n",
        "```\n",
        "\n",
        "---\n",
        "\n",
        "### **9. Multi-dimensional Fast Fourier Transform (FFT)**\n",
        "- `numpy.fft` allows **signal processing and frequency domain analysis**.\n",
        "\n",
        "**Example:**\n",
        "```python\n",
        "import numpy.fft as fft\n",
        "signal = np.array([1, 2, 3, 4])\n",
        "transformed = fft.fft(signal)\n",
        "print(transformed)\n",
        "```\n",
        "\n",
        "---\n",
        "\n",
        "### **10. Parallel Computing with NumPy**\n",
        "- NumPy can **utilize multiple CPU cores** for faster computations using `numexpr` or `joblib`.\n",
        "- Example using **NumExpr**:\n",
        "```python\n",
        "import numexpr as ne\n",
        "a, b = np.random.rand(1000000), np.random.rand(1000000)\n",
        "result = ne.evaluate(\"a * b + 2\")  # Much faster than standard NumPy\n",
        "```\n",
        "\n",
        "---\n",
        "\n",
        "### **Conclusion**\n",
        "These **advanced NumPy features** significantly improve computational **efficiency, scalability, and flexibility**. Whether you're working with **large datasets, scientific computing, or machine learning**, mastering these techniques **optimizes performance and reduces execution time**."
      ],
      "metadata": {
        "id": "IP2ZnR7kkbpQ"
      }
    },
    {
      "cell_type": "markdown",
      "source": [
        "Q20) What is the role of a pivot table in Pandas ?"
      ],
      "metadata": {
        "id": "-C4OSzzckm8M"
      }
    },
    {
      "cell_type": "markdown",
      "source": [
        "--->   ## **Role of a Pivot Table in Pandas** 📊  \n",
        "\n",
        "A **pivot table** in Pandas helps **summarize, reshape, and analyze large datasets** by **aggregating** values based on **categories**. It is similar to Excel pivot tables and is useful for grouping and summarizing data efficiently.\n",
        "\n",
        "---\n",
        "\n",
        "## **1️⃣ Creating a Pivot Table in Pandas**  \n",
        "The `pivot_table()` function is used to create pivot tables in Pandas.  \n",
        "\n",
        "### **Example: Basic Pivot Table**\n",
        "```python\n",
        "import pandas as pd\n",
        "\n",
        "# Sample sales data\n",
        "data = {\n",
        "    \"Date\": [\"2024-01-01\", \"2024-01-01\", \"2024-01-02\", \"2024-01-02\"],\n",
        "    \"City\": [\"New York\", \"Los Angeles\", \"New York\", \"Los Angeles\"],\n",
        "    \"Category\": [\"Electronics\", \"Electronics\", \"Furniture\", \"Furniture\"],\n",
        "    \"Sales\": [1000, 1500, 1200, 1800]\n",
        "}\n",
        "\n",
        "df = pd.DataFrame(data)\n",
        "\n",
        "# Pivot Table: Total Sales by City & Category\n",
        "pivot = pd.pivot_table(df, values=\"Sales\", index=\"City\", columns=\"Category\", aggfunc=\"sum\")\n",
        "\n",
        "print(pivot)\n",
        "```\n",
        "📌 **Output:**\n",
        "```\n",
        "Category      Electronics  Furniture\n",
        "City                                \n",
        "Los Angeles         1500       1800\n",
        "New York           1000       1200\n",
        "```\n",
        "✅ **Rows (`index`) → City**  \n",
        "✅ **Columns (`columns`) → Product Category**  \n",
        "✅ **Values (`values`) → Sum of Sales**  \n",
        "\n",
        "---\n",
        "\n",
        "## **2️⃣ Aggregation Functions in Pivot Tables**\n",
        "By default, Pandas **aggregates using `mean()`**, but you can specify other functions:  \n",
        "```python\n",
        "pd.pivot_table(df, values=\"Sales\", index=\"City\", aggfunc=[\"sum\", \"count\", \"mean\"])\n",
        "```\n",
        "📌 **Output:**  \n",
        "```\n",
        "            sum  count   mean\n",
        "City                          \n",
        "Los Angeles  3300      2  1650.0\n",
        "New York     2200      2  1100.0\n",
        "```\n",
        "✅ **Summarizes total, count, and average sales per city!**  \n",
        "\n",
        "---\n",
        "\n",
        "## **3️⃣ Handling Missing Values**\n",
        "You can replace missing values in a pivot table using `fill_value`.  \n",
        "```python\n",
        "pd.pivot_table(df, values=\"Sales\", index=\"City\", columns=\"Category\", aggfunc=\"sum\", fill_value=0)\n",
        "```\n",
        " **Ensures missing categories don’t appear as `NaN`!**  \n",
        "\n",
        "---\n",
        "\n",
        "## **4️⃣ Multi-Level Indexing (Multiple Pivot Levels)**\n",
        "You can pivot on **multiple indexes** (rows & columns).  \n",
        "```python\n",
        "pivot = pd.pivot_table(df, values=\"Sales\", index=[\"City\", \"Date\"], columns=\"Category\", aggfunc=\"sum\")\n",
        "```\n"
      ],
      "metadata": {
        "id": "f27W2YU3kyM5"
      }
    },
    {
      "cell_type": "markdown",
      "source": [
        "Q21) Why is NumPy’s array slicing faster than Python’s list slicing?"
      ],
      "metadata": {
        "id": "g0IDZMhmlFt8"
      }
    },
    {
      "cell_type": "markdown",
      "source": [
        "--->    ### **Why is NumPy’s Array Slicing Faster than Python’s List Slicing?**  \n",
        "\n",
        "NumPy’s array slicing is significantly faster than Python’s list slicing due to the following key reasons:\n",
        "\n",
        "---\n",
        "\n",
        "### **1. NumPy Uses Contiguous Memory Allocation (C-Style Arrays)**\n",
        "- **Python Lists:** Store references (pointers) to objects **spread across memory**.  \n",
        "- **NumPy Arrays:** Use a **single contiguous memory block** (like C arrays), allowing for **faster memory access**.\n",
        "\n",
        "💡 **Example:**  \n",
        "```python\n",
        "import numpy as np\n",
        "import time\n",
        "\n",
        "# Large NumPy array\n",
        "arr = np.arange(10**6)\n",
        "\n",
        "# Large Python list\n",
        "lst = list(range(10**6))\n",
        "\n",
        "# Slicing NumPy array\n",
        "start = time.time()\n",
        "_ = arr[:100000]  # Fast slice\n",
        "end = time.time()\n",
        "print(\"NumPy slicing time:\", end - start)\n",
        "\n",
        "# Slicing Python list\n",
        "start = time.time()\n",
        "_ = lst[:100000]  # Slower slice\n",
        "end = time.time()\n",
        "print(\"Python list slicing time:\", end - start)\n",
        "```\n",
        "✅ **NumPy slicing is significantly faster** because it directly accesses memory, whereas lists require fetching individual elements.\n",
        "\n",
        "---\n",
        "\n",
        "### **2. Views vs. Copies (Memory Efficiency)**\n",
        "- **NumPy Slices Return Views (No Copying)**  \n",
        "  - NumPy does **not create a new object**; it provides a **view** of the original array.\n",
        "  - No additional memory allocation, improving efficiency.\n",
        "\n",
        "- **Python List Slices Create New Lists**  \n",
        "  - Each slicing operation in Python creates a **new list**, leading to **slower performance and higher memory usage**.\n",
        "\n",
        "💡 **Example (Memory Efficiency of NumPy Slices)**  \n",
        "```python\n",
        "arr = np.arange(10)  \n",
        "slice_arr = arr[2:6]  # No new array is created\n",
        "slice_arr[:] = 99  # Modifying the slice also modifies the original array\n",
        "\n",
        "print(arr)  # Output: [ 0  1 99 99 99 99  6  7  8  9]\n",
        "```\n",
        "✅ NumPy’s slicing provides a **view**, whereas Python lists create **new lists**.\n",
        "\n",
        "---\n",
        "\n",
        "### **3. Optimized for Vectorized Operations (No Loops)**\n",
        "- **NumPy is built on C and Fortran**, leveraging **vectorized operations**.\n",
        "- **Python lists require loops** to apply operations to elements.\n",
        "\n",
        " **Example (Applying Operations on Slices)**  \n",
        "```python\n",
        "# NumPy: Vectorized operation (Fast)\n",
        "arr[2:6] *= 2  # Doubles elements in place\n",
        "\n",
        "# Python list: Requires a loop (Slow)\n",
        "lst = list(range(10))\n",
        "lst[2:6] = [x * 2 for x in lst[2:6]]\n",
        "```\n",
        "✅ **NumPy avoids explicit loops**, making slicing operations faster.\n",
        "\n",
        "---\n",
        "\n",
        "### **4. NumPy Uses Low-Level SIMD Optimization**\n",
        "- **SIMD (Single Instruction, Multiple Data)** enables **parallelized execution** of slicing operations.\n",
        "- **Python lists lack SIMD optimizations**, requiring **sequential access**.\n",
        "\n",
        "---\n",
        "\n",
        "### **Conclusion**\n",
        "✅ **NumPy slicing is faster than Python lists** due to:  \n",
        "✔ **Contiguous memory storage** (faster access)  \n",
        "✔ **View-based slicing** (avoids unnecessary copies)  \n",
        "✔ **Vectorized operations** (avoids Python loops)  \n",
        "✔ **Low-level C optimizations** (leveraging SIMD and CPU-level speedups)  \n"
      ],
      "metadata": {
        "id": "cMMsvJvLlOPE"
      }
    },
    {
      "cell_type": "markdown",
      "source": [
        "Q22) What are some common use cases for Seaborn?"
      ],
      "metadata": {
        "id": "gwccHTdZlUtx"
      }
    },
    {
      "cell_type": "markdown",
      "source": [
        "---> ## **Common Use Cases for Seaborn**  \n",
        "\n",
        "Seaborn is a **Python data visualization library** built on top of Matplotlib. It provides **beautiful, high-level statistical graphics** that make exploratory data analysis (EDA) easier.  \n",
        "\n",
        "---\n",
        "\n",
        "## **1️⃣ Statistical Data Visualization**  \n",
        "Seaborn is widely used to create **visually appealing and insightful statistical plots** with minimal effort.  \n",
        "\n",
        "### **Example: Scatter Plot with Regression Line (Trend Analysis)**\n",
        "```python\n",
        "import seaborn as sns\n",
        "import matplotlib.pyplot as plt\n",
        "\n",
        "# Load built-in dataset\n",
        "tips = sns.load_dataset(\"tips\")\n",
        "\n",
        "# Create a scatter plot with regression line\n",
        "sns.lmplot(x=\"total_bill\", y=\"tip\", data=tips)\n",
        "plt.show()\n",
        "```\n",
        "✅ **Easily detects relationships between variables!**  \n",
        "\n",
        "---\n",
        "\n",
        "## **2️⃣ Exploratory Data Analysis (EDA) **  \n",
        "Seaborn helps **understand data distributions, correlations, and trends**.  \n",
        "\n",
        "### **Example: Distribution of Data (Histogram + KDE)**\n",
        "```python\n",
        "sns.histplot(tips[\"total_bill\"], kde=True, bins=20)\n",
        "plt.show()\n",
        "```\n",
        "✅ **Quickly visualizes how data is spread!**  \n",
        "\n",
        "---\n",
        "\n",
        "## **3️⃣ Category-Based Analysis **  \n",
        "Seaborn makes it easy to **compare categories** in a dataset.  \n",
        "\n",
        "### **Example: Boxplot for Category-Wise Distribution**\n",
        "```python\n",
        "sns.boxplot(x=\"day\", y=\"total_bill\", data=tips)\n",
        "plt.show()\n",
        "```\n",
        "✅ **Great for detecting outliers and comparing groups!**  \n",
        "\n",
        "---\n",
        "\n",
        "## **4️⃣ Correlation Analysis **  \n",
        "Seaborn’s **heatmaps** make it easy to **visualize correlations** between variables.  \n",
        "\n",
        "### **Example: Heatmap for Correlation Matrix**\n",
        "```python\n",
        "import pandas as pd\n",
        "\n",
        "# Compute correlation\n",
        "corr = tips.corr()\n",
        "\n",
        "# Plot heatmap\n",
        "sns.heatmap(corr, annot=True, cmap=\"coolwarm\")\n",
        "plt.show()\n",
        "```\n",
        "✅ **Easily identifies strong/weak relationships between variables!**  \n",
        "\n",
        "---\n",
        "\n",
        "## **5️⃣ Time Series Analysis **  \n",
        "Seaborn can plot trends over time.  \n",
        "\n",
        "### **Example: Line Chart for Time Series Data**\n",
        "```python\n",
        "flights = sns.load_dataset(\"flights\")\n",
        "sns.lineplot(x=\"year\", y=\"passengers\", data=flights)\n",
        "plt.show()\n",
        "```\n",
        "✅ **Quickly detects seasonality and trends!**  \n",
        "\n",
        "---\n",
        "\n",
        "## **6️⃣ Pairwise Relationships (Pair Plots) **  \n",
        "Pair plots help **visualize relationships between multiple numerical variables**.  \n",
        "\n",
        "### **Example: Pairplot for Multivariate Analysis**\n",
        "```python\n",
        "sns.pairplot(tips, hue=\"sex\")\n",
        "plt.show()\n",
        "```\n"
      ],
      "metadata": {
        "id": "7_h5Mn2PldQf"
      }
    },
    {
      "cell_type": "markdown",
      "source": [
        "# **PRACTICAL QUESTIONS ANSWERS**"
      ],
      "metadata": {
        "id": "2mv0Ivbwl460"
      }
    },
    {
      "cell_type": "markdown",
      "source": [
        "Q1) How do you create a 2D NumPy array and calculate the sum of each row?"
      ],
      "metadata": {
        "id": "qJKEvpRKl_9c"
      }
    },
    {
      "cell_type": "code",
      "source": [
        "import numpy as np\n",
        "\n",
        "# Create a 2D array (3 rows, 4 columns)\n",
        "arr = np.array([[1, 2, 3, 4],\n",
        "                [5, 6, 7, 8],\n",
        "                [9, 10, 11, 12]])\n",
        "\n",
        "print(arr)  # Print the 2D array\n"
      ],
      "metadata": {
        "colab": {
          "base_uri": "https://localhost:8080/"
        },
        "id": "f_j7lx3bm7tZ",
        "outputId": "6e16d78f-edfb-495a-84d4-b519040f0dc5"
      },
      "execution_count": null,
      "outputs": [
        {
          "output_type": "stream",
          "name": "stdout",
          "text": [
            "[[ 1  2  3  4]\n",
            " [ 5  6  7  8]\n",
            " [ 9 10 11 12]]\n"
          ]
        }
      ]
    },
    {
      "cell_type": "markdown",
      "source": [
        "Q2) Write a Pandas script to find the mean of a specific column in a DataFrame."
      ],
      "metadata": {
        "id": "Q2OPbMZHm-yc"
      }
    },
    {
      "cell_type": "code",
      "source": [
        "import pandas as pd\n",
        "\n",
        "data = {\n",
        "    \"Name\": [\"Alice\", \"Bob\", \"Charlie\", \"David\"],\n",
        "    \"Age\": [25, 30, 35, 40],\n",
        "    \"Salary\": [50000, 60000, 70000, 80000]\n",
        "}\n",
        "\n",
        "df = pd.DataFrame(data)\n",
        "\n",
        "mean_salary = df[\"Salary\"].mean()\n",
        "\n",
        "print(\"Mean Salary:\", mean_salary)\n"
      ],
      "metadata": {
        "colab": {
          "base_uri": "https://localhost:8080/"
        },
        "id": "HXG4zyZInTh0",
        "outputId": "2ef10875-e988-4c16-8267-98d60df70c08"
      },
      "execution_count": null,
      "outputs": [
        {
          "output_type": "stream",
          "name": "stdout",
          "text": [
            "Mean Salary: 65000.0\n"
          ]
        }
      ]
    },
    {
      "cell_type": "markdown",
      "source": [
        "Q3) Create a scatter plot using Matplotlib."
      ],
      "metadata": {
        "id": "lRSaTPseni20"
      }
    },
    {
      "cell_type": "code",
      "source": [
        "import matplotlib.pyplot as plt\n",
        "import numpy as np\n",
        "\n",
        "np.random.seed(42)\n",
        "x = np.random.rand(50)\n",
        "y = np.random.rand(50)\n",
        "\n",
        "plt.scatter(x, y, color='blue', alpha=0.5, label='Data Points')\n",
        "\n",
        "plt.xlabel('X-axis')\n",
        "plt.ylabel('Y-axis')\n",
        "plt.title('Scatter Plot using Matplotlib')\n",
        "plt.legend()\n",
        "\n",
        "plt.show()\n"
      ],
      "metadata": {
        "colab": {
          "base_uri": "https://localhost:8080/",
          "height": 472
        },
        "id": "OM3r_d7N6jrA",
        "outputId": "ecbc286d-a766-4192-b327-920f51f8a756"
      },
      "execution_count": 2,
      "outputs": [
        {
          "output_type": "display_data",
          "data": {
            "text/plain": [
              "<Figure size 640x480 with 1 Axes>"
            ],
            "image/png": "[encoded data removed]"
          },
          "metadata": {}
        }
      ]
    },
    {
      "cell_type": "markdown",
      "source": [
        "Q4)  How do you calculate the correlation matrix using Seaborn and visualize it with a heatmap.\n"
      ],
      "metadata": {
        "id": "LQFGyisnx4_s"
      }
    },
    {
      "cell_type": "code",
      "source": [
        "import pandas as pd\n",
        "import seaborn as sns\n",
        "import matplotlib.pyplot as plt\n",
        "\n",
        "data = {\n",
        "    'A': [1, 2, 3, 4, 5],\n",
        "    'B': [2, 3, 4, 5, 6],\n",
        "    'C': [5, 4, 3, 2, 1],\n",
        "    'D': [10, 20, 30, 40, 50]\n",
        "}\n",
        "\n",
        "df = pd.DataFrame(data)\n",
        "\n",
        "corr_matrix = df.corr()\n",
        "\n",
        "plt.figure(figsize=(8, 6))\n",
        "sns.heatmap(corr_matrix, annot=True, cmap=\"coolwarm\", fmt=\".2f\", linewidths=0.5)\n",
        "plt.title(\"Correlation Matrix Heatmap\")\n",
        "plt.show()\n"
      ],
      "metadata": {
        "colab": {
          "base_uri": "https://localhost:8080/",
          "height": 545
        },
        "id": "p6YWohVX6x1a",
        "outputId": "dc7d428e-2753-4833-b321-c0d05db1c907"
      },
      "execution_count": 3,
      "outputs": [
        {
          "output_type": "display_data",
          "data": {
            "text/plain": [
              "<Figure size 800x600 with 2 Axes>"
            ],
            "image/png": "[encoded data removed]"
          },
          "metadata": {}
        }
      ]
    },
    {
      "cell_type": "markdown",
      "source": [
        "Q5) Generate a bar plot using Plotly  ."
      ],
      "metadata": {
        "id": "zu3EIZRS0IEd"
      }
    },
    {
      "cell_type": "code",
      "source": [
        "import plotly.express as px\n",
        "import pandas as pd\n",
        "\n",
        "\n",
        "data = {\n",
        "    \"Category\": [\"A\", \"B\", \"C\", \"D\", \"E\"],\n",
        "    \"Values\": [10, 25, 15, 30, 20]\n",
        "}\n",
        "\n",
        "df = pd.DataFrame(data)\n",
        "\n",
        "fig = px.bar(df, x=\"Category\", y=\"Values\", title=\"Bar Plot using Plotly\",\n",
        "             color=\"Values\", text=\"Values\", labels={\"Values\": \"Count\"})\n",
        "\n",
        "fig.update_traces(textposition=\"outside\")\n",
        "fig.show()\n"
      ],
      "metadata": {
        "colab": {
          "base_uri": "https://localhost:8080/",
          "height": 542
        },
        "id": "oWWj498M7fBf",
        "outputId": "769bf1d2-08c7-4130-d13f-a43fd5d1bbf2"
      },
      "execution_count": 4,
      "outputs": [
        {
          "output_type": "display_data",
          "data": {
            "text/html": [
              "<html>\n",
              "<head><meta charset=\"utf-8\" /></head>\n",
              "<body>\n",
              "    <div>            <script src=\"https://cdnjs.cloudflare.com/ajax/libs/mathjax/2.7.5/MathJax.js?config=TeX-AMS-MML_SVG\"></script><script type=\"text/javascript\">if (window.MathJax && window.MathJax.Hub && window.MathJax.Hub.Config) {window.MathJax.Hub.Config({SVG: {font: \"STIX-Web\"}});}</script>                <script type=\"text/javascript\">window.PlotlyConfig = {MathJaxConfig: 'local'};</script>\n",
              "        <script charset=\"utf-8\" src=\"https://cdn.plot.ly/plotly-2.35.2.min.js\"></script>                <div id=\"6a6048d3-ad86-42e4-80d3-a958e07a7716\" class=\"plotly-graph-div\" style=\"height:525px; width:100%;\"></div>            <script type=\"text/javascript\">                                    window.PLOTLYENV=window.PLOTLYENV || {};                                    if (document.getElementById(\"6a6048d3-ad86-42e4-80d3-a958e07a7716\")) {                    Plotly.newPlot(                        \"6a6048d3-ad86-42e4-80d3-a958e07a7716\",                        [{\"alignmentgroup\":\"True\",\"hovertemplate\":\"Category=%{x}\\u003cbr\\u003eCount=%{marker.color}\\u003cextra\\u003e\\u003c\\u002fextra\\u003e\",\"legendgroup\":\"\",\"marker\":{\"color\":[10,25,15,30,20],\"coloraxis\":\"coloraxis\",\"pattern\":{\"shape\":\"\"}},\"name\":\"\",\"offsetgroup\":\"\",\"orientation\":\"v\",\"showlegend\":false,\"text\":[10.0,25.0,15.0,30.0,20.0],\"textposition\":\"outside\",\"x\":[\"A\",\"B\",\"C\",\"D\",\"E\"],\"xaxis\":\"x\",\"y\":[10,25,15,30,20],\"yaxis\":\"y\",\"type\":\"bar\"}],                        {\"template\":{\"data\":{\"histogram2dcontour\":[{\"type\":\"histogram2dcontour\",\"colorbar\":{\"outlinewidth\":0,\"ticks\":\"\"},\"colorscale\":[[0.0,\"#0d0887\"],[0.1111111111111111,\"#46039f\"],[0.2222222222222222,\"#7201a8\"],[0.3333333333333333,\"#9c179e\"],[0.4444444444444444,\"#bd3786\"],[0.5555555555555556,\"#d8576b\"],[0.6666666666666666,\"#ed7953\"],[0.7777777777777778,\"#fb9f3a\"],[0.8888888888888888,\"#fdca26\"],[1.0,\"#f0f921\"]]}],\"choropleth\":[{\"type\":\"choropleth\",\"colorbar\":{\"outlinewidth\":0,\"ticks\":\"\"}}],\"histogram2d\":[{\"type\":\"histogram2d\",\"colorbar\":{\"outlinewidth\":0,\"ticks\":\"\"},\"colorscale\":[[0.0,\"#0d0887\"],[0.1111111111111111,\"#46039f\"],[0.2222222222222222,\"#7201a8\"],[0.3333333333333333,\"#9c179e\"],[0.4444444444444444,\"#bd3786\"],[0.5555555555555556,\"#d8576b\"],[0.6666666666666666,\"#ed7953\"],[0.7777777777777778,\"#fb9f3a\"],[0.8888888888888888,\"#fdca26\"],[1.0,\"#f0f921\"]]}],\"heatmap\":[{\"type\":\"heatmap\",\"colorbar\":{\"outlinewidth\":0,\"ticks\":\"\"},\"colorscale\":[[0.0,\"#0d0887\"],[0.1111111111111111,\"#46039f\"],[0.2222222222222222,\"#7201a8\"],[0.3333333333333333,\"#9c179e\"],[0.4444444444444444,\"#bd3786\"],[0.5555555555555556,\"#d8576b\"],[0.6666666666666666,\"#ed7953\"],[0.7777777777777778,\"#fb9f3a\"],[0.8888888888888888,\"#fdca26\"],[1.0,\"#f0f921\"]]}],\"heatmapgl\":[{\"type\":\"heatmapgl\",\"colorbar\":{\"outlinewidth\":0,\"ticks\":\"\"},\"colorscale\":[[0.0,\"#0d0887\"],[0.1111111111111111,\"#46039f\"],[0.2222222222222222,\"#7201a8\"],[0.3333333333333333,\"#9c179e\"],[0.4444444444444444,\"#bd3786\"],[0.5555555555555556,\"#d8576b\"],[0.6666666666666666,\"#ed7953\"],[0.7777777777777778,\"#fb9f3a\"],[0.8888888888888888,\"#fdca26\"],[1.0,\"#f0f921\"]]}],\"contourcarpet\":[{\"type\":\"contourcarpet\",\"colorbar\":{\"outlinewidth\":0,\"ticks\":\"\"}}],\"contour\":[{\"type\":\"contour\",\"colorbar\":{\"outlinewidth\":0,\"ticks\":\"\"},\"colorscale\":[[0.0,\"#0d0887\"],[0.1111111111111111,\"#46039f\"],[0.2222222222222222,\"#7201a8\"],[0.3333333333333333,\"#9c179e\"],[0.4444444444444444,\"#bd3786\"],[0.5555555555555556,\"#d8576b\"],[0.6666666666666666,\"#ed7953\"],[0.7777777777777778,\"#fb9f3a\"],[0.8888888888888888,\"#fdca26\"],[1.0,\"#f0f921\"]]}],\"surface\":[{\"type\":\"surface\",\"colorbar\":{\"outlinewidth\":0,\"ticks\":\"\"},\"colorscale\":[[0.0,\"#0d0887\"],[0.1111111111111111,\"#46039f\"],[0.2222222222222222,\"#7201a8\"],[0.3333333333333333,\"#9c179e\"],[0.4444444444444444,\"#bd3786\"],[0.5555555555555556,\"#d8576b\"],[0.6666666666666666,\"#ed7953\"],[0.7777777777777778,\"#fb9f3a\"],[0.8888888888888888,\"#fdca26\"],[1.0,\"#f0f921\"]]}],\"mesh3d\":[{\"type\":\"mesh3d\",\"colorbar\":{\"outlinewidth\":0,\"ticks\":\"\"}}],\"scatter\":[{\"fillpattern\":{\"fillmode\":\"overlay\",\"size\":10,\"solidity\":0.2},\"type\":\"scatter\"}],\"parcoords\":[{\"type\":\"parcoords\",\"line\":{\"colorbar\":{\"outlinewidth\":0,\"ticks\":\"\"}}}],\"scatterpolargl\":[{\"type\":\"scatterpolargl\",\"marker\":{\"colorbar\":{\"outlinewidth\":0,\"ticks\":\"\"}}}],\"bar\":[{\"error_x\":{\"color\":\"#2a3f5f\"},\"error_y\":{\"color\":\"#2a3f5f\"},\"marker\":{\"line\":{\"color\":\"#E5ECF6\",\"width\":0.5},\"pattern\":{\"fillmode\":\"overlay\",\"size\":10,\"solidity\":0.2}},\"type\":\"bar\"}],\"scattergeo\":[{\"type\":\"scattergeo\",\"marker\":{\"colorbar\":{\"outlinewidth\":0,\"ticks\":\"\"}}}],\"scatterpolar\":[{\"type\":\"scatterpolar\",\"marker\":{\"colorbar\":{\"outlinewidth\":0,\"ticks\":\"\"}}}],\"histogram\":[{\"marker\":{\"pattern\":{\"fillmode\":\"overlay\",\"size\":10,\"solidity\":0.2}},\"type\":\"histogram\"}],\"scattergl\":[{\"type\":\"scattergl\",\"marker\":{\"colorbar\":{\"outlinewidth\":0,\"ticks\":\"\"}}}],\"scatter3d\":[{\"type\":\"scatter3d\",\"line\":{\"colorbar\":{\"outlinewidth\":0,\"ticks\":\"\"}},\"marker\":{\"colorbar\":{\"outlinewidth\":0,\"ticks\":\"\"}}}],\"scattermapbox\":[{\"type\":\"scattermapbox\",\"marker\":{\"colorbar\":{\"outlinewidth\":0,\"ticks\":\"\"}}}],\"scatterternary\":[{\"type\":\"scatterternary\",\"marker\":{\"colorbar\":{\"outlinewidth\":0,\"ticks\":\"\"}}}],\"scattercarpet\":[{\"type\":\"scattercarpet\",\"marker\":{\"colorbar\":{\"outlinewidth\":0,\"ticks\":\"\"}}}],\"carpet\":[{\"aaxis\":{\"endlinecolor\":\"#2a3f5f\",\"gridcolor\":\"white\",\"linecolor\":\"white\",\"minorgridcolor\":\"white\",\"startlinecolor\":\"#2a3f5f\"},\"baxis\":{\"endlinecolor\":\"#2a3f5f\",\"gridcolor\":\"white\",\"linecolor\":\"white\",\"minorgridcolor\":\"white\",\"startlinecolor\":\"#2a3f5f\"},\"type\":\"carpet\"}],\"table\":[{\"cells\":{\"fill\":{\"color\":\"#EBF0F8\"},\"line\":{\"color\":\"white\"}},\"header\":{\"fill\":{\"color\":\"#C8D4E3\"},\"line\":{\"color\":\"white\"}},\"type\":\"table\"}],\"barpolar\":[{\"marker\":{\"line\":{\"color\":\"#E5ECF6\",\"width\":0.5},\"pattern\":{\"fillmode\":\"overlay\",\"size\":10,\"solidity\":0.2}},\"type\":\"barpolar\"}],\"pie\":[{\"automargin\":true,\"type\":\"pie\"}]},\"layout\":{\"autotypenumbers\":\"strict\",\"colorway\":[\"#636efa\",\"#EF553B\",\"#00cc96\",\"#ab63fa\",\"#FFA15A\",\"#19d3f3\",\"#FF6692\",\"#B6E880\",\"#FF97FF\",\"#FECB52\"],\"font\":{\"color\":\"#2a3f5f\"},\"hovermode\":\"closest\",\"hoverlabel\":{\"align\":\"left\"},\"paper_bgcolor\":\"white\",\"plot_bgcolor\":\"#E5ECF6\",\"polar\":{\"bgcolor\":\"#E5ECF6\",\"angularaxis\":{\"gridcolor\":\"white\",\"linecolor\":\"white\",\"ticks\":\"\"},\"radialaxis\":{\"gridcolor\":\"white\",\"linecolor\":\"white\",\"ticks\":\"\"}},\"ternary\":{\"bgcolor\":\"#E5ECF6\",\"aaxis\":{\"gridcolor\":\"white\",\"linecolor\":\"white\",\"ticks\":\"\"},\"baxis\":{\"gridcolor\":\"white\",\"linecolor\":\"white\",\"ticks\":\"\"},\"caxis\":{\"gridcolor\":\"white\",\"linecolor\":\"white\",\"ticks\":\"\"}},\"coloraxis\":{\"colorbar\":{\"outlinewidth\":0,\"ticks\":\"\"}},\"colorscale\":{\"sequential\":[[0.0,\"#0d0887\"],[0.1111111111111111,\"#46039f\"],[0.2222222222222222,\"#7201a8\"],[0.3333333333333333,\"#9c179e\"],[0.4444444444444444,\"#bd3786\"],[0.5555555555555556,\"#d8576b\"],[0.6666666666666666,\"#ed7953\"],[0.7777777777777778,\"#fb9f3a\"],[0.8888888888888888,\"#fdca26\"],[1.0,\"#f0f921\"]],\"sequentialminus\":[[0.0,\"#0d0887\"],[0.1111111111111111,\"#46039f\"],[0.2222222222222222,\"#7201a8\"],[0.3333333333333333,\"#9c179e\"],[0.4444444444444444,\"#bd3786\"],[0.5555555555555556,\"#d8576b\"],[0.6666666666666666,\"#ed7953\"],[0.7777777777777778,\"#fb9f3a\"],[0.8888888888888888,\"#fdca26\"],[1.0,\"#f0f921\"]],\"diverging\":[[0,\"#8e0152\"],[0.1,\"#c51b7d\"],[0.2,\"#de77ae\"],[0.3,\"#f1b6da\"],[0.4,\"#fde0ef\"],[0.5,\"#f7f7f7\"],[0.6,\"#e6f5d0\"],[0.7,\"#b8e186\"],[0.8,\"#7fbc41\"],[0.9,\"#4d9221\"],[1,\"#276419\"]]},\"xaxis\":{\"gridcolor\":\"white\",\"linecolor\":\"white\",\"ticks\":\"\",\"title\":{\"standoff\":15},\"zerolinecolor\":\"white\",\"automargin\":true,\"zerolinewidth\":2},\"yaxis\":{\"gridcolor\":\"white\",\"linecolor\":\"white\",\"ticks\":\"\",\"title\":{\"standoff\":15},\"zerolinecolor\":\"white\",\"automargin\":true,\"zerolinewidth\":2},\"scene\":{\"xaxis\":{\"backgroundcolor\":\"#E5ECF6\",\"gridcolor\":\"white\",\"linecolor\":\"white\",\"showbackground\":true,\"ticks\":\"\",\"zerolinecolor\":\"white\",\"gridwidth\":2},\"yaxis\":{\"backgroundcolor\":\"#E5ECF6\",\"gridcolor\":\"white\",\"linecolor\":\"white\",\"showbackground\":true,\"ticks\":\"\",\"zerolinecolor\":\"white\",\"gridwidth\":2},\"zaxis\":{\"backgroundcolor\":\"#E5ECF6\",\"gridcolor\":\"white\",\"linecolor\":\"white\",\"showbackground\":true,\"ticks\":\"\",\"zerolinecolor\":\"white\",\"gridwidth\":2}},\"shapedefaults\":{\"line\":{\"color\":\"#2a3f5f\"}},\"annotationdefaults\":{\"arrowcolor\":\"#2a3f5f\",\"arrowhead\":0,\"arrowwidth\":1},\"geo\":{\"bgcolor\":\"white\",\"landcolor\":\"#E5ECF6\",\"subunitcolor\":\"white\",\"showland\":true,\"showlakes\":true,\"lakecolor\":\"white\"},\"title\":{\"x\":0.05},\"mapbox\":{\"style\":\"light\"}}},\"xaxis\":{\"anchor\":\"y\",\"domain\":[0.0,1.0],\"title\":{\"text\":\"Category\"}},\"yaxis\":{\"anchor\":\"x\",\"domain\":[0.0,1.0],\"title\":{\"text\":\"Count\"}},\"coloraxis\":{\"colorbar\":{\"title\":{\"text\":\"Count\"}},\"colorscale\":[[0.0,\"#0d0887\"],[0.1111111111111111,\"#46039f\"],[0.2222222222222222,\"#7201a8\"],[0.3333333333333333,\"#9c179e\"],[0.4444444444444444,\"#bd3786\"],[0.5555555555555556,\"#d8576b\"],[0.6666666666666666,\"#ed7953\"],[0.7777777777777778,\"#fb9f3a\"],[0.8888888888888888,\"#fdca26\"],[1.0,\"#f0f921\"]]},\"legend\":{\"tracegroupgap\":0},\"title\":{\"text\":\"Bar Plot using Plotly\"},\"barmode\":\"relative\"},                        {\"responsive\": true}                    ).then(function(){\n",
              "                            \n",
              "var gd = document.getElementById('6a6048d3-ad86-42e4-80d3-a958e07a7716');\n",
              "var x = new MutationObserver(function (mutations, observer) {{\n",
              "        var display = window.getComputedStyle(gd).display;\n",
              "        if (!display || display === 'none') {{\n",
              "            console.log([gd, 'removed!']);\n",
              "            Plotly.purge(gd);\n",
              "            observer.disconnect();\n",
              "        }}\n",
              "}});\n",
              "\n",
              "// Listen for the removal of the full notebook cells\n",
              "var notebookContainer = gd.closest('#notebook-container');\n",
              "if (notebookContainer) {{\n",
              "    x.observe(notebookContainer, {childList: true});\n",
              "}}\n",
              "\n",
              "// Listen for the clearing of the current output cell\n",
              "var outputEl = gd.closest('.output');\n",
              "if (outputEl) {{\n",
              "    x.observe(outputEl, {childList: true});\n",
              "}}\n",
              "\n",
              "                        })                };                            </script>        </div>\n",
              "</body>\n",
              "</html>"
            ]
          },
          "metadata": {}
        }
      ]
    },
    {
      "cell_type": "markdown",
      "source": [
        "Q6) Create a DataFrame and add a new column based on an existing column"
      ],
      "metadata": {
        "id": "vtIbZSIh3fUV"
      }
    },
    {
      "cell_type": "code",
      "source": [
        "import pandas as pd\n",
        "\n",
        "\n",
        "data = {\n",
        "    \"Name\": [\"Alice\", \"Bob\", \"Charlie\", \"David\"],\n",
        "    \"Salary\": [50000, 60000, 70000, 80000]\n",
        "}\n",
        "\n",
        "df = pd.DataFrame(data)\n",
        "\n",
        "df[\"Tax\"] = df[\"Salary\"] * 0.10\n",
        "\n",
        "print(df)\n"
      ],
      "metadata": {
        "id": "xU2vtMuZ4Ztz",
        "colab": {
          "base_uri": "https://localhost:8080/"
        },
        "outputId": "a6c22d18-057f-4aa3-a2ea-8ad3fcc1337b"
      },
      "execution_count": 5,
      "outputs": [
        {
          "output_type": "stream",
          "name": "stdout",
          "text": [
            "      Name  Salary     Tax\n",
            "0    Alice   50000  5000.0\n",
            "1      Bob   60000  6000.0\n",
            "2  Charlie   70000  7000.0\n",
            "3    David   80000  8000.0\n"
          ]
        }
      ]
    },
    {
      "cell_type": "markdown",
      "source": [
        "Q7) Write a program to perform element-wise multiplication of two NumPy arrays."
      ],
      "metadata": {
        "id": "uRK6B2iv8FsF"
      }
    },
    {
      "cell_type": "code",
      "source": [
        "import numpy as np\n",
        "\n",
        "array1 = np.array([1, 2, 3, 4, 5])\n",
        "array2 = np.array([10, 20, 30, 40, 50])\n",
        "\n",
        "\n",
        "result1 = array1 * array2\n",
        "result2 = np.multiply(array1, array2)\n",
        "\n",
        "print(\"Array 1:\", array1)\n",
        "print(\"Array 2:\", array2)\n",
        "print(\"Element-wise Multiplication (using *):\", result1)\n",
        "print(\"Element-wise Multiplication (using np.multiply()):\", result2)\n"
      ],
      "metadata": {
        "colab": {
          "base_uri": "https://localhost:8080/"
        },
        "id": "SUXGfXC38O_P",
        "outputId": "26515e23-256a-41e6-94d4-f638062497b8"
      },
      "execution_count": 6,
      "outputs": [
        {
          "output_type": "stream",
          "name": "stdout",
          "text": [
            "Array 1: [1 2 3 4 5]\n",
            "Array 2: [10 20 30 40 50]\n",
            "Element-wise Multiplication (using *): [ 10  40  90 160 250]\n",
            "Element-wise Multiplication (using np.multiply()): [ 10  40  90 160 250]\n"
          ]
        }
      ]
    },
    {
      "cell_type": "markdown",
      "source": [
        "Q8)  Create a line plot with multiple lines using Matplotlib."
      ],
      "metadata": {
        "id": "JKjFoi2o8mtF"
      }
    },
    {
      "cell_type": "code",
      "source": [
        "import matplotlib.pyplot as plt\n",
        "import numpy as np\n",
        "\n",
        "x = np.linspace(0, 10, 100)\n",
        "\n",
        "y1 = np.sin(x)\n",
        "y2 = np.cos(x)\n",
        "y3 = np.tan(x) / 5\n",
        "\n",
        "plt.figure(figsize=(8, 6))\n",
        "\n",
        "\n",
        "plt.plot(x, y1, label=\"sin(x)\", color=\"blue\", linestyle=\"-\", linewidth=2)\n",
        "plt.plot(x, y2, label=\"cos(x)\", color=\"red\", linestyle=\"--\", linewidth=2)\n",
        "plt.plot(x, y3, label=\"tan(x)/5\", color=\"green\", linestyle=\":\", linewidth=2)\n",
        "\n",
        "\n",
        "plt.title(\"Multiple Line Plot using Matplotlib\")\n",
        "plt.xlabel(\"X-axis\")\n",
        "plt.ylabel(\"Y-axis\")\n",
        "\n",
        "plt.grid(True, linestyle=\"--\", alpha=0.6)\n",
        "plt.legend()\n",
        "\n",
        "\n",
        "plt.show()\n"
      ],
      "metadata": {
        "colab": {
          "base_uri": "https://localhost:8080/",
          "height": 564
        },
        "id": "7BBWtvEc8uWG",
        "outputId": "a048f63c-c7cf-4dba-c7d8-c28f894339b7"
      },
      "execution_count": 8,
      "outputs": [
        {
          "output_type": "display_data",
          "data": {
            "text/plain": [
              "<Figure size 800x600 with 1 Axes>"
            ],
            "image/png": "[encoded data removed]"
          },
          "metadata": {}
        }
      ]
    },
    {
      "cell_type": "markdown",
      "source": [
        "Q9) Generate a Pandas DataFrame and filter rows where a column value is greater than a threshold."
      ],
      "metadata": {
        "id": "ON47FXGJ800P"
      }
    },
    {
      "cell_type": "code",
      "source": [
        "import pandas as pd\n",
        "\n",
        "data = {\n",
        "    \"Name\": [\"Alice\", \"Bob\", \"Charlie\", \"David\", \"Eve\"],\n",
        "    \"Age\": [25, 32, 18, 45, 29],\n",
        "    \"Score\": [85, 90, 67, 78, 92]\n",
        "}\n",
        "\n",
        "df = pd.DataFrame(data)\n",
        "\n",
        "print(\"Original DataFrame:\")\n",
        "print(df)\n",
        "\n",
        "\n",
        "threshold = 80\n",
        "\n",
        "\n",
        "filtered_df = df[df[\"Score\"] > threshold]\n",
        "\n",
        "\n",
        "print(\"\\nFiltered DataFrame (Score > 80):\")\n",
        "print(filtered_df)\n"
      ],
      "metadata": {
        "colab": {
          "base_uri": "https://localhost:8080/"
        },
        "id": "ysRhPn5E9EOf",
        "outputId": "9d14e4ab-7862-4832-e184-c6b1678ce110"
      },
      "execution_count": 9,
      "outputs": [
        {
          "output_type": "stream",
          "name": "stdout",
          "text": [
            "Original DataFrame:\n",
            "      Name  Age  Score\n",
            "0    Alice   25     85\n",
            "1      Bob   32     90\n",
            "2  Charlie   18     67\n",
            "3    David   45     78\n",
            "4      Eve   29     92\n",
            "\n",
            "Filtered DataFrame (Score > 80):\n",
            "    Name  Age  Score\n",
            "0  Alice   25     85\n",
            "1    Bob   32     90\n",
            "4    Eve   29     92\n"
          ]
        }
      ]
    },
    {
      "cell_type": "markdown",
      "source": [
        "Q10) Generate a Pandas DataFrame and filter rows where a column value is greater than a threshold."
      ],
      "metadata": {
        "id": "lKQhEv5x9voF"
      }
    },
    {
      "cell_type": "code",
      "source": [
        "import pandas as pd\n",
        "\n",
        "\n",
        "data = {\n",
        "    \"Name\": [\"Alice\", \"Bob\", \"Charlie\", \"David\", \"Eve\"],\n",
        "    \"Age\": [25, 32, 18, 45, 29],\n",
        "    \"Salary\": [50000, 70000, 32000, 90000, 65000]\n",
        "}\n",
        "\n",
        "df = pd.DataFrame(data)\n",
        "\n",
        "print(\"Original DataFrame:\")\n",
        "print(df)\n",
        "\n",
        "\n",
        "salary_threshold = 60000\n",
        "\n",
        "filtered_df = df[df[\"Salary\"] > salary_threshold]\n",
        "\n",
        "print(\"\\nFiltered DataFrame (Salary > 60000):\")\n",
        "print(filtered_df)\n"
      ],
      "metadata": {
        "colab": {
          "base_uri": "https://localhost:8080/"
        },
        "id": "-szDQsCv9y-x",
        "outputId": "a4386464-fa22-4c03-ab2e-afc03f2645e7"
      },
      "execution_count": 10,
      "outputs": [
        {
          "output_type": "stream",
          "name": "stdout",
          "text": [
            "Original DataFrame:\n",
            "      Name  Age  Salary\n",
            "0    Alice   25   50000\n",
            "1      Bob   32   70000\n",
            "2  Charlie   18   32000\n",
            "3    David   45   90000\n",
            "4      Eve   29   65000\n",
            "\n",
            "Filtered DataFrame (Salary > 60000):\n",
            "    Name  Age  Salary\n",
            "1    Bob   32   70000\n",
            "3  David   45   90000\n",
            "4    Eve   29   65000\n"
          ]
        }
      ]
    },
    {
      "cell_type": "markdown",
      "source": [
        "Q11) Perform matrix multiplication using NumPy."
      ],
      "metadata": {
        "id": "oau3zPCq9zzN"
      }
    },
    {
      "cell_type": "code",
      "source": [
        "import numpy as np\n",
        "\n",
        "A = np.array([[1, 2], [3, 4]])\n",
        "B = np.array([[5, 6], [7, 8]])\n",
        "\n",
        "\n",
        "print(\"Matrix A:\\n\", A)\n",
        "print(\"\\nMatrix B:\\n\", B)\n",
        "\n",
        "result1 = A @ B\n",
        "print(\"\\nMatrix Multiplication using '@':\\n\", result1)\n"
      ],
      "metadata": {
        "colab": {
          "base_uri": "https://localhost:8080/"
        },
        "id": "jxYzDcKa9_TQ",
        "outputId": "a1219c17-f3e3-45f0-d3fa-2700f2dba017"
      },
      "execution_count": 11,
      "outputs": [
        {
          "output_type": "stream",
          "name": "stdout",
          "text": [
            "Matrix A:\n",
            " [[1 2]\n",
            " [3 4]]\n",
            "\n",
            "Matrix B:\n",
            " [[5 6]\n",
            " [7 8]]\n",
            "\n",
            "Matrix Multiplication using '@':\n",
            " [[19 22]\n",
            " [43 50]]\n"
          ]
        }
      ]
    },
    {
      "cell_type": "markdown",
      "source": [
        "Q12)  Use Pandas to load a CSV file and display its first 5 rows.\n",
        ""
      ],
      "metadata": {
        "id": "7xBXtrxO9_ry"
      }
    },
    {
      "cell_type": "markdown",
      "source": [
        "Q13) Create a 3D scatter plot using Plotly."
      ],
      "metadata": {
        "id": "yeO4A6wM-Pd2"
      }
    },
    {
      "cell_type": "code",
      "source": [
        "import plotly.express as px\n",
        "import pandas as pd\n",
        "import numpy as np\n",
        "\n",
        "np.random.seed(42)\n",
        "\n",
        "df = pd.DataFrame({\n",
        "    \"X\": np.random.randint(1, 100, 50),\n",
        "    \"Y\": np.random.randint(1, 100, 50),\n",
        "    \"Z\": np.random.randint(1, 100, 50),\n",
        "    \"Category\": np.random.choice([\"A\", \"B\", \"C\"], 50)\n",
        "})\n",
        "\n",
        "fig = px.scatter_3d(df, x=\"X\", y=\"Y\", z=\"Z\",\n",
        "                     color=\"Category\",\n",
        "                     title=\"3D Scatter Plot using Plotly\")\n",
        "\n",
        "fig.show()\n"
      ],
      "metadata": {
        "colab": {
          "base_uri": "https://localhost:8080/",
          "height": 542
        },
        "id": "jKOl-QQ6BwY9",
        "outputId": "4dd176e3-131c-485f-a895-136918da13b2"
      },
      "execution_count": 16,
      "outputs": [
        {
          "output_type": "display_data",
          "data": {
            "text/html": [
              "<html>\n",
              "<head><meta charset=\"utf-8\" /></head>\n",
              "<body>\n",
              "    <div>            <script src=\"https://cdnjs.cloudflare.com/ajax/libs/mathjax/2.7.5/MathJax.js?config=TeX-AMS-MML_SVG\"></script><script type=\"text/javascript\">if (window.MathJax && window.MathJax.Hub && window.MathJax.Hub.Config) {window.MathJax.Hub.Config({SVG: {font: \"STIX-Web\"}});}</script>                <script type=\"text/javascript\">window.PlotlyConfig = {MathJaxConfig: 'local'};</script>\n",
              "        <script charset=\"utf-8\" src=\"https://cdn.plot.ly/plotly-2.35.2.min.js\"></script>                <div id=\"79d528b3-966f-49f6-b129-d0767199f155\" class=\"plotly-graph-div\" style=\"height:525px; width:100%;\"></div>            <script type=\"text/javascript\">                                    window.PLOTLYENV=window.PLOTLYENV || {};                                    if (document.getElementById(\"79d528b3-966f-49f6-b129-d0767199f155\")) {                    Plotly.newPlot(                        \"79d528b3-966f-49f6-b129-d0767199f155\",                        [{\"hovertemplate\":\"Category=C\\u003cbr\\u003eX=%{x}\\u003cbr\\u003eY=%{y}\\u003cbr\\u003eZ=%{z}\\u003cextra\\u003e\\u003c\\u002fextra\\u003e\",\"legendgroup\":\"C\",\"marker\":{\"color\":\"#636efa\",\"symbol\":\"circle\"},\"mode\":\"markers\",\"name\":\"C\",\"scene\":\"scene\",\"showlegend\":true,\"x\":[52,93,21,83,87,3,22,2,88,2,64,60,92,80,62,55,21,73,18],\"y\":[4,89,90,53,2,44,8,35,78,50,4,2,74,14,48,62,53,24,89],\"z\":[60,41,65,89,71,88,63,81,8,33,5,41,88,99,86,47,90,14,9],\"type\":\"scatter3d\"},{\"hovertemplate\":\"Category=B\\u003cbr\\u003eX=%{x}\\u003cbr\\u003eY=%{y}\\u003cbr\\u003eZ=%{z}\\u003cextra\\u003e\\u003c\\u002fextra\\u003e\",\"legendgroup\":\"B\",\"marker\":{\"color\":\"#EF553B\",\"symbol\":\"circle\"},\"mode\":\"markers\",\"name\":\"B\",\"scene\":\"scene\",\"showlegend\":true,\"x\":[15,72,88,21,33,76,22,91,59,42,60,62,64,39],\"y\":[60,14,60,6,54,4,93,90,44,34,62,15,40,26],\"z\":[29,15,1,28,7,73,12,48,23,62,37,91,78,27],\"type\":\"scatter3d\"},{\"hovertemplate\":\"Category=A\\u003cbr\\u003eX=%{x}\\u003cbr\\u003eY=%{y}\\u003cbr\\u003eZ=%{z}\\u003cextra\\u003e\\u003c\\u002fextra\\u003e\",\"legendgroup\":\"A\",\"marker\":{\"color\":\"#00cc96\",\"symbol\":\"circle\"},\"mode\":\"markers\",\"name\":\"A\",\"scene\":\"scene\",\"showlegend\":true,\"x\":[61,75,75,24,53,30,38,58,89,49,15,47,62,51,3,51,7],\"y\":[9,84,92,71,47,81,36,54,63,18,95,72,78,87,85,80,82],\"z\":[45,9,88,8,11,35,35,72,34,33,44,35,65,99,3,1,5],\"type\":\"scatter3d\"}],                        {\"template\":{\"data\":{\"histogram2dcontour\":[{\"type\":\"histogram2dcontour\",\"colorbar\":{\"outlinewidth\":0,\"ticks\":\"\"},\"colorscale\":[[0.0,\"#0d0887\"],[0.1111111111111111,\"#46039f\"],[0.2222222222222222,\"#7201a8\"],[0.3333333333333333,\"#9c179e\"],[0.4444444444444444,\"#bd3786\"],[0.5555555555555556,\"#d8576b\"],[0.6666666666666666,\"#ed7953\"],[0.7777777777777778,\"#fb9f3a\"],[0.8888888888888888,\"#fdca26\"],[1.0,\"#f0f921\"]]}],\"choropleth\":[{\"type\":\"choropleth\",\"colorbar\":{\"outlinewidth\":0,\"ticks\":\"\"}}],\"histogram2d\":[{\"type\":\"histogram2d\",\"colorbar\":{\"outlinewidth\":0,\"ticks\":\"\"},\"colorscale\":[[0.0,\"#0d0887\"],[0.1111111111111111,\"#46039f\"],[0.2222222222222222,\"#7201a8\"],[0.3333333333333333,\"#9c179e\"],[0.4444444444444444,\"#bd3786\"],[0.5555555555555556,\"#d8576b\"],[0.6666666666666666,\"#ed7953\"],[0.7777777777777778,\"#fb9f3a\"],[0.8888888888888888,\"#fdca26\"],[1.0,\"#f0f921\"]]}],\"heatmap\":[{\"type\":\"heatmap\",\"colorbar\":{\"outlinewidth\":0,\"ticks\":\"\"},\"colorscale\":[[0.0,\"#0d0887\"],[0.1111111111111111,\"#46039f\"],[0.2222222222222222,\"#7201a8\"],[0.3333333333333333,\"#9c179e\"],[0.4444444444444444,\"#bd3786\"],[0.5555555555555556,\"#d8576b\"],[0.6666666666666666,\"#ed7953\"],[0.7777777777777778,\"#fb9f3a\"],[0.8888888888888888,\"#fdca26\"],[1.0,\"#f0f921\"]]}],\"heatmapgl\":[{\"type\":\"heatmapgl\",\"colorbar\":{\"outlinewidth\":0,\"ticks\":\"\"},\"colorscale\":[[0.0,\"#0d0887\"],[0.1111111111111111,\"#46039f\"],[0.2222222222222222,\"#7201a8\"],[0.3333333333333333,\"#9c179e\"],[0.4444444444444444,\"#bd3786\"],[0.5555555555555556,\"#d8576b\"],[0.6666666666666666,\"#ed7953\"],[0.7777777777777778,\"#fb9f3a\"],[0.8888888888888888,\"#fdca26\"],[1.0,\"#f0f921\"]]}],\"contourcarpet\":[{\"type\":\"contourcarpet\",\"colorbar\":{\"outlinewidth\":0,\"ticks\":\"\"}}],\"contour\":[{\"type\":\"contour\",\"colorbar\":{\"outlinewidth\":0,\"ticks\":\"\"},\"colorscale\":[[0.0,\"#0d0887\"],[0.1111111111111111,\"#46039f\"],[0.2222222222222222,\"#7201a8\"],[0.3333333333333333,\"#9c179e\"],[0.4444444444444444,\"#bd3786\"],[0.5555555555555556,\"#d8576b\"],[0.6666666666666666,\"#ed7953\"],[0.7777777777777778,\"#fb9f3a\"],[0.8888888888888888,\"#fdca26\"],[1.0,\"#f0f921\"]]}],\"surface\":[{\"type\":\"surface\",\"colorbar\":{\"outlinewidth\":0,\"ticks\":\"\"},\"colorscale\":[[0.0,\"#0d0887\"],[0.1111111111111111,\"#46039f\"],[0.2222222222222222,\"#7201a8\"],[0.3333333333333333,\"#9c179e\"],[0.4444444444444444,\"#bd3786\"],[0.5555555555555556,\"#d8576b\"],[0.6666666666666666,\"#ed7953\"],[0.7777777777777778,\"#fb9f3a\"],[0.8888888888888888,\"#fdca26\"],[1.0,\"#f0f921\"]]}],\"mesh3d\":[{\"type\":\"mesh3d\",\"colorbar\":{\"outlinewidth\":0,\"ticks\":\"\"}}],\"scatter\":[{\"fillpattern\":{\"fillmode\":\"overlay\",\"size\":10,\"solidity\":0.2},\"type\":\"scatter\"}],\"parcoords\":[{\"type\":\"parcoords\",\"line\":{\"colorbar\":{\"outlinewidth\":0,\"ticks\":\"\"}}}],\"scatterpolargl\":[{\"type\":\"scatterpolargl\",\"marker\":{\"colorbar\":{\"outlinewidth\":0,\"ticks\":\"\"}}}],\"bar\":[{\"error_x\":{\"color\":\"#2a3f5f\"},\"error_y\":{\"color\":\"#2a3f5f\"},\"marker\":{\"line\":{\"color\":\"#E5ECF6\",\"width\":0.5},\"pattern\":{\"fillmode\":\"overlay\",\"size\":10,\"solidity\":0.2}},\"type\":\"bar\"}],\"scattergeo\":[{\"type\":\"scattergeo\",\"marker\":{\"colorbar\":{\"outlinewidth\":0,\"ticks\":\"\"}}}],\"scatterpolar\":[{\"type\":\"scatterpolar\",\"marker\":{\"colorbar\":{\"outlinewidth\":0,\"ticks\":\"\"}}}],\"histogram\":[{\"marker\":{\"pattern\":{\"fillmode\":\"overlay\",\"size\":10,\"solidity\":0.2}},\"type\":\"histogram\"}],\"scattergl\":[{\"type\":\"scattergl\",\"marker\":{\"colorbar\":{\"outlinewidth\":0,\"ticks\":\"\"}}}],\"scatter3d\":[{\"type\":\"scatter3d\",\"line\":{\"colorbar\":{\"outlinewidth\":0,\"ticks\":\"\"}},\"marker\":{\"colorbar\":{\"outlinewidth\":0,\"ticks\":\"\"}}}],\"scattermapbox\":[{\"type\":\"scattermapbox\",\"marker\":{\"colorbar\":{\"outlinewidth\":0,\"ticks\":\"\"}}}],\"scatterternary\":[{\"type\":\"scatterternary\",\"marker\":{\"colorbar\":{\"outlinewidth\":0,\"ticks\":\"\"}}}],\"scattercarpet\":[{\"type\":\"scattercarpet\",\"marker\":{\"colorbar\":{\"outlinewidth\":0,\"ticks\":\"\"}}}],\"carpet\":[{\"aaxis\":{\"endlinecolor\":\"#2a3f5f\",\"gridcolor\":\"white\",\"linecolor\":\"white\",\"minorgridcolor\":\"white\",\"startlinecolor\":\"#2a3f5f\"},\"baxis\":{\"endlinecolor\":\"#2a3f5f\",\"gridcolor\":\"white\",\"linecolor\":\"white\",\"minorgridcolor\":\"white\",\"startlinecolor\":\"#2a3f5f\"},\"type\":\"carpet\"}],\"table\":[{\"cells\":{\"fill\":{\"color\":\"#EBF0F8\"},\"line\":{\"color\":\"white\"}},\"header\":{\"fill\":{\"color\":\"#C8D4E3\"},\"line\":{\"color\":\"white\"}},\"type\":\"table\"}],\"barpolar\":[{\"marker\":{\"line\":{\"color\":\"#E5ECF6\",\"width\":0.5},\"pattern\":{\"fillmode\":\"overlay\",\"size\":10,\"solidity\":0.2}},\"type\":\"barpolar\"}],\"pie\":[{\"automargin\":true,\"type\":\"pie\"}]},\"layout\":{\"autotypenumbers\":\"strict\",\"colorway\":[\"#636efa\",\"#EF553B\",\"#00cc96\",\"#ab63fa\",\"#FFA15A\",\"#19d3f3\",\"#FF6692\",\"#B6E880\",\"#FF97FF\",\"#FECB52\"],\"font\":{\"color\":\"#2a3f5f\"},\"hovermode\":\"closest\",\"hoverlabel\":{\"align\":\"left\"},\"paper_bgcolor\":\"white\",\"plot_bgcolor\":\"#E5ECF6\",\"polar\":{\"bgcolor\":\"#E5ECF6\",\"angularaxis\":{\"gridcolor\":\"white\",\"linecolor\":\"white\",\"ticks\":\"\"},\"radialaxis\":{\"gridcolor\":\"white\",\"linecolor\":\"white\",\"ticks\":\"\"}},\"ternary\":{\"bgcolor\":\"#E5ECF6\",\"aaxis\":{\"gridcolor\":\"white\",\"linecolor\":\"white\",\"ticks\":\"\"},\"baxis\":{\"gridcolor\":\"white\",\"linecolor\":\"white\",\"ticks\":\"\"},\"caxis\":{\"gridcolor\":\"white\",\"linecolor\":\"white\",\"ticks\":\"\"}},\"coloraxis\":{\"colorbar\":{\"outlinewidth\":0,\"ticks\":\"\"}},\"colorscale\":{\"sequential\":[[0.0,\"#0d0887\"],[0.1111111111111111,\"#46039f\"],[0.2222222222222222,\"#7201a8\"],[0.3333333333333333,\"#9c179e\"],[0.4444444444444444,\"#bd3786\"],[0.5555555555555556,\"#d8576b\"],[0.6666666666666666,\"#ed7953\"],[0.7777777777777778,\"#fb9f3a\"],[0.8888888888888888,\"#fdca26\"],[1.0,\"#f0f921\"]],\"sequentialminus\":[[0.0,\"#0d0887\"],[0.1111111111111111,\"#46039f\"],[0.2222222222222222,\"#7201a8\"],[0.3333333333333333,\"#9c179e\"],[0.4444444444444444,\"#bd3786\"],[0.5555555555555556,\"#d8576b\"],[0.6666666666666666,\"#ed7953\"],[0.7777777777777778,\"#fb9f3a\"],[0.8888888888888888,\"#fdca26\"],[1.0,\"#f0f921\"]],\"diverging\":[[0,\"#8e0152\"],[0.1,\"#c51b7d\"],[0.2,\"#de77ae\"],[0.3,\"#f1b6da\"],[0.4,\"#fde0ef\"],[0.5,\"#f7f7f7\"],[0.6,\"#e6f5d0\"],[0.7,\"#b8e186\"],[0.8,\"#7fbc41\"],[0.9,\"#4d9221\"],[1,\"#276419\"]]},\"xaxis\":{\"gridcolor\":\"white\",\"linecolor\":\"white\",\"ticks\":\"\",\"title\":{\"standoff\":15},\"zerolinecolor\":\"white\",\"automargin\":true,\"zerolinewidth\":2},\"yaxis\":{\"gridcolor\":\"white\",\"linecolor\":\"white\",\"ticks\":\"\",\"title\":{\"standoff\":15},\"zerolinecolor\":\"white\",\"automargin\":true,\"zerolinewidth\":2},\"scene\":{\"xaxis\":{\"backgroundcolor\":\"#E5ECF6\",\"gridcolor\":\"white\",\"linecolor\":\"white\",\"showbackground\":true,\"ticks\":\"\",\"zerolinecolor\":\"white\",\"gridwidth\":2},\"yaxis\":{\"backgroundcolor\":\"#E5ECF6\",\"gridcolor\":\"white\",\"linecolor\":\"white\",\"showbackground\":true,\"ticks\":\"\",\"zerolinecolor\":\"white\",\"gridwidth\":2},\"zaxis\":{\"backgroundcolor\":\"#E5ECF6\",\"gridcolor\":\"white\",\"linecolor\":\"white\",\"showbackground\":true,\"ticks\":\"\",\"zerolinecolor\":\"white\",\"gridwidth\":2}},\"shapedefaults\":{\"line\":{\"color\":\"#2a3f5f\"}},\"annotationdefaults\":{\"arrowcolor\":\"#2a3f5f\",\"arrowhead\":0,\"arrowwidth\":1},\"geo\":{\"bgcolor\":\"white\",\"landcolor\":\"#E5ECF6\",\"subunitcolor\":\"white\",\"showland\":true,\"showlakes\":true,\"lakecolor\":\"white\"},\"title\":{\"x\":0.05},\"mapbox\":{\"style\":\"light\"}}},\"scene\":{\"domain\":{\"x\":[0.0,1.0],\"y\":[0.0,1.0]},\"xaxis\":{\"title\":{\"text\":\"X\"}},\"yaxis\":{\"title\":{\"text\":\"Y\"}},\"zaxis\":{\"title\":{\"text\":\"Z\"}}},\"legend\":{\"title\":{\"text\":\"Category\"},\"tracegroupgap\":0},\"title\":{\"text\":\"3D Scatter Plot using Plotly\"}},                        {\"responsive\": true}                    ).then(function(){\n",
              "                            \n",
              "var gd = document.getElementById('79d528b3-966f-49f6-b129-d0767199f155');\n",
              "var x = new MutationObserver(function (mutations, observer) {{\n",
              "        var display = window.getComputedStyle(gd).display;\n",
              "        if (!display || display === 'none') {{\n",
              "            console.log([gd, 'removed!']);\n",
              "            Plotly.purge(gd);\n",
              "            observer.disconnect();\n",
              "        }}\n",
              "}});\n",
              "\n",
              "// Listen for the removal of the full notebook cells\n",
              "var notebookContainer = gd.closest('#notebook-container');\n",
              "if (notebookContainer) {{\n",
              "    x.observe(notebookContainer, {childList: true});\n",
              "}}\n",
              "\n",
              "// Listen for the clearing of the current output cell\n",
              "var outputEl = gd.closest('.output');\n",
              "if (outputEl) {{\n",
              "    x.observe(outputEl, {childList: true});\n",
              "}}\n",
              "\n",
              "                        })                };                            </script>        </div>\n",
              "</body>\n",
              "</html>"
            ]
          },
          "metadata": {}
        }
      ]
    },
    {
      "cell_type": "code",
      "source": [
        "import plotly.express as px\n",
        "import pandas as pd\n",
        "import numpy as np\n",
        "\n",
        "np.random.seed(42)\n",
        "\n",
        "df = pd.DataFrame({\n",
        "    \"X\": np.random.randint(1, 100, 50),\n",
        "    \"Y\": np.random.randint(1, 100, 50),\n",
        "    \"Z\": np.random.randint(1, 100, 50),\n",
        "    \"Category\": np.random.choice([\"A\", \"B\", \"C\"], 50)\n",
        "})\n",
        "\n",
        "fig = px.scatter_3d(df, x=\"X\", y=\"Y\", z=\"Z\",\n",
        "                     color=\"Category\",\n",
        "                     size_max=10,\n",
        "                     title=\"3D Scatter Plot using Plotly\")\n",
        "\n",
        "fig.show()\n"
      ],
      "metadata": {
        "colab": {
          "base_uri": "https://localhost:8080/",
          "height": 542
        },
        "id": "stlenUZb-ZXc",
        "outputId": "5a715669-2d21-4ed6-a6fd-75c8e9335f5c"
      },
      "execution_count": 14,
      "outputs": [
        {
          "output_type": "display_data",
          "data": {
            "text/html": [
              "<html>\n",
              "<head><meta charset=\"utf-8\" /></head>\n",
              "<body>\n",
              "    <div>            <script src=\"https://cdnjs.cloudflare.com/ajax/libs/mathjax/2.7.5/MathJax.js?config=TeX-AMS-MML_SVG\"></script><script type=\"text/javascript\">if (window.MathJax && window.MathJax.Hub && window.MathJax.Hub.Config) {window.MathJax.Hub.Config({SVG: {font: \"STIX-Web\"}});}</script>                <script type=\"text/javascript\">window.PlotlyConfig = {MathJaxConfig: 'local'};</script>\n",
              "        <script charset=\"utf-8\" src=\"https://cdn.plot.ly/plotly-2.35.2.min.js\"></script>                <div id=\"1d4a5da6-8ba3-4749-9bd2-525f1e90a6fe\" class=\"plotly-graph-div\" style=\"height:525px; width:100%;\"></div>            <script type=\"text/javascript\">                                    window.PLOTLYENV=window.PLOTLYENV || {};                                    if (document.getElementById(\"1d4a5da6-8ba3-4749-9bd2-525f1e90a6fe\")) {                    Plotly.newPlot(                        \"1d4a5da6-8ba3-4749-9bd2-525f1e90a6fe\",                        [{\"hovertemplate\":\"Category=C\\u003cbr\\u003eX=%{x}\\u003cbr\\u003eY=%{y}\\u003cbr\\u003eZ=%{z}\\u003cextra\\u003e\\u003c\\u002fextra\\u003e\",\"legendgroup\":\"C\",\"marker\":{\"color\":\"#636efa\",\"symbol\":\"circle\"},\"mode\":\"markers\",\"name\":\"C\",\"scene\":\"scene\",\"showlegend\":true,\"x\":[52,93,21,83,87,3,22,2,88,2,64,60,92,80,62,55,21,73,18],\"y\":[4,89,90,53,2,44,8,35,78,50,4,2,74,14,48,62,53,24,89],\"z\":[60,41,65,89,71,88,63,81,8,33,5,41,88,99,86,47,90,14,9],\"type\":\"scatter3d\"},{\"hovertemplate\":\"Category=B\\u003cbr\\u003eX=%{x}\\u003cbr\\u003eY=%{y}\\u003cbr\\u003eZ=%{z}\\u003cextra\\u003e\\u003c\\u002fextra\\u003e\",\"legendgroup\":\"B\",\"marker\":{\"color\":\"#EF553B\",\"symbol\":\"circle\"},\"mode\":\"markers\",\"name\":\"B\",\"scene\":\"scene\",\"showlegend\":true,\"x\":[15,72,88,21,33,76,22,91,59,42,60,62,64,39],\"y\":[60,14,60,6,54,4,93,90,44,34,62,15,40,26],\"z\":[29,15,1,28,7,73,12,48,23,62,37,91,78,27],\"type\":\"scatter3d\"},{\"hovertemplate\":\"Category=A\\u003cbr\\u003eX=%{x}\\u003cbr\\u003eY=%{y}\\u003cbr\\u003eZ=%{z}\\u003cextra\\u003e\\u003c\\u002fextra\\u003e\",\"legendgroup\":\"A\",\"marker\":{\"color\":\"#00cc96\",\"symbol\":\"circle\"},\"mode\":\"markers\",\"name\":\"A\",\"scene\":\"scene\",\"showlegend\":true,\"x\":[61,75,75,24,53,30,38,58,89,49,15,47,62,51,3,51,7],\"y\":[9,84,92,71,47,81,36,54,63,18,95,72,78,87,85,80,82],\"z\":[45,9,88,8,11,35,35,72,34,33,44,35,65,99,3,1,5],\"type\":\"scatter3d\"}],                        {\"template\":{\"data\":{\"histogram2dcontour\":[{\"type\":\"histogram2dcontour\",\"colorbar\":{\"outlinewidth\":0,\"ticks\":\"\"},\"colorscale\":[[0.0,\"#0d0887\"],[0.1111111111111111,\"#46039f\"],[0.2222222222222222,\"#7201a8\"],[0.3333333333333333,\"#9c179e\"],[0.4444444444444444,\"#bd3786\"],[0.5555555555555556,\"#d8576b\"],[0.6666666666666666,\"#ed7953\"],[0.7777777777777778,\"#fb9f3a\"],[0.8888888888888888,\"#fdca26\"],[1.0,\"#f0f921\"]]}],\"choropleth\":[{\"type\":\"choropleth\",\"colorbar\":{\"outlinewidth\":0,\"ticks\":\"\"}}],\"histogram2d\":[{\"type\":\"histogram2d\",\"colorbar\":{\"outlinewidth\":0,\"ticks\":\"\"},\"colorscale\":[[0.0,\"#0d0887\"],[0.1111111111111111,\"#46039f\"],[0.2222222222222222,\"#7201a8\"],[0.3333333333333333,\"#9c179e\"],[0.4444444444444444,\"#bd3786\"],[0.5555555555555556,\"#d8576b\"],[0.6666666666666666,\"#ed7953\"],[0.7777777777777778,\"#fb9f3a\"],[0.8888888888888888,\"#fdca26\"],[1.0,\"#f0f921\"]]}],\"heatmap\":[{\"type\":\"heatmap\",\"colorbar\":{\"outlinewidth\":0,\"ticks\":\"\"},\"colorscale\":[[0.0,\"#0d0887\"],[0.1111111111111111,\"#46039f\"],[0.2222222222222222,\"#7201a8\"],[0.3333333333333333,\"#9c179e\"],[0.4444444444444444,\"#bd3786\"],[0.5555555555555556,\"#d8576b\"],[0.6666666666666666,\"#ed7953\"],[0.7777777777777778,\"#fb9f3a\"],[0.8888888888888888,\"#fdca26\"],[1.0,\"#f0f921\"]]}],\"heatmapgl\":[{\"type\":\"heatmapgl\",\"colorbar\":{\"outlinewidth\":0,\"ticks\":\"\"},\"colorscale\":[[0.0,\"#0d0887\"],[0.1111111111111111,\"#46039f\"],[0.2222222222222222,\"#7201a8\"],[0.3333333333333333,\"#9c179e\"],[0.4444444444444444,\"#bd3786\"],[0.5555555555555556,\"#d8576b\"],[0.6666666666666666,\"#ed7953\"],[0.7777777777777778,\"#fb9f3a\"],[0.8888888888888888,\"#fdca26\"],[1.0,\"#f0f921\"]]}],\"contourcarpet\":[{\"type\":\"contourcarpet\",\"colorbar\":{\"outlinewidth\":0,\"ticks\":\"\"}}],\"contour\":[{\"type\":\"contour\",\"colorbar\":{\"outlinewidth\":0,\"ticks\":\"\"},\"colorscale\":[[0.0,\"#0d0887\"],[0.1111111111111111,\"#46039f\"],[0.2222222222222222,\"#7201a8\"],[0.3333333333333333,\"#9c179e\"],[0.4444444444444444,\"#bd3786\"],[0.5555555555555556,\"#d8576b\"],[0.6666666666666666,\"#ed7953\"],[0.7777777777777778,\"#fb9f3a\"],[0.8888888888888888,\"#fdca26\"],[1.0,\"#f0f921\"]]}],\"surface\":[{\"type\":\"surface\",\"colorbar\":{\"outlinewidth\":0,\"ticks\":\"\"},\"colorscale\":[[0.0,\"#0d0887\"],[0.1111111111111111,\"#46039f\"],[0.2222222222222222,\"#7201a8\"],[0.3333333333333333,\"#9c179e\"],[0.4444444444444444,\"#bd3786\"],[0.5555555555555556,\"#d8576b\"],[0.6666666666666666,\"#ed7953\"],[0.7777777777777778,\"#fb9f3a\"],[0.8888888888888888,\"#fdca26\"],[1.0,\"#f0f921\"]]}],\"mesh3d\":[{\"type\":\"mesh3d\",\"colorbar\":{\"outlinewidth\":0,\"ticks\":\"\"}}],\"scatter\":[{\"fillpattern\":{\"fillmode\":\"overlay\",\"size\":10,\"solidity\":0.2},\"type\":\"scatter\"}],\"parcoords\":[{\"type\":\"parcoords\",\"line\":{\"colorbar\":{\"outlinewidth\":0,\"ticks\":\"\"}}}],\"scatterpolargl\":[{\"type\":\"scatterpolargl\",\"marker\":{\"colorbar\":{\"outlinewidth\":0,\"ticks\":\"\"}}}],\"bar\":[{\"error_x\":{\"color\":\"#2a3f5f\"},\"error_y\":{\"color\":\"#2a3f5f\"},\"marker\":{\"line\":{\"color\":\"#E5ECF6\",\"width\":0.5},\"pattern\":{\"fillmode\":\"overlay\",\"size\":10,\"solidity\":0.2}},\"type\":\"bar\"}],\"scattergeo\":[{\"type\":\"scattergeo\",\"marker\":{\"colorbar\":{\"outlinewidth\":0,\"ticks\":\"\"}}}],\"scatterpolar\":[{\"type\":\"scatterpolar\",\"marker\":{\"colorbar\":{\"outlinewidth\":0,\"ticks\":\"\"}}}],\"histogram\":[{\"marker\":{\"pattern\":{\"fillmode\":\"overlay\",\"size\":10,\"solidity\":0.2}},\"type\":\"histogram\"}],\"scattergl\":[{\"type\":\"scattergl\",\"marker\":{\"colorbar\":{\"outlinewidth\":0,\"ticks\":\"\"}}}],\"scatter3d\":[{\"type\":\"scatter3d\",\"line\":{\"colorbar\":{\"outlinewidth\":0,\"ticks\":\"\"}},\"marker\":{\"colorbar\":{\"outlinewidth\":0,\"ticks\":\"\"}}}],\"scattermapbox\":[{\"type\":\"scattermapbox\",\"marker\":{\"colorbar\":{\"outlinewidth\":0,\"ticks\":\"\"}}}],\"scatterternary\":[{\"type\":\"scatterternary\",\"marker\":{\"colorbar\":{\"outlinewidth\":0,\"ticks\":\"\"}}}],\"scattercarpet\":[{\"type\":\"scattercarpet\",\"marker\":{\"colorbar\":{\"outlinewidth\":0,\"ticks\":\"\"}}}],\"carpet\":[{\"aaxis\":{\"endlinecolor\":\"#2a3f5f\",\"gridcolor\":\"white\",\"linecolor\":\"white\",\"minorgridcolor\":\"white\",\"startlinecolor\":\"#2a3f5f\"},\"baxis\":{\"endlinecolor\":\"#2a3f5f\",\"gridcolor\":\"white\",\"linecolor\":\"white\",\"minorgridcolor\":\"white\",\"startlinecolor\":\"#2a3f5f\"},\"type\":\"carpet\"}],\"table\":[{\"cells\":{\"fill\":{\"color\":\"#EBF0F8\"},\"line\":{\"color\":\"white\"}},\"header\":{\"fill\":{\"color\":\"#C8D4E3\"},\"line\":{\"color\":\"white\"}},\"type\":\"table\"}],\"barpolar\":[{\"marker\":{\"line\":{\"color\":\"#E5ECF6\",\"width\":0.5},\"pattern\":{\"fillmode\":\"overlay\",\"size\":10,\"solidity\":0.2}},\"type\":\"barpolar\"}],\"pie\":[{\"automargin\":true,\"type\":\"pie\"}]},\"layout\":{\"autotypenumbers\":\"strict\",\"colorway\":[\"#636efa\",\"#EF553B\",\"#00cc96\",\"#ab63fa\",\"#FFA15A\",\"#19d3f3\",\"#FF6692\",\"#B6E880\",\"#FF97FF\",\"#FECB52\"],\"font\":{\"color\":\"#2a3f5f\"},\"hovermode\":\"closest\",\"hoverlabel\":{\"align\":\"left\"},\"paper_bgcolor\":\"white\",\"plot_bgcolor\":\"#E5ECF6\",\"polar\":{\"bgcolor\":\"#E5ECF6\",\"angularaxis\":{\"gridcolor\":\"white\",\"linecolor\":\"white\",\"ticks\":\"\"},\"radialaxis\":{\"gridcolor\":\"white\",\"linecolor\":\"white\",\"ticks\":\"\"}},\"ternary\":{\"bgcolor\":\"#E5ECF6\",\"aaxis\":{\"gridcolor\":\"white\",\"linecolor\":\"white\",\"ticks\":\"\"},\"baxis\":{\"gridcolor\":\"white\",\"linecolor\":\"white\",\"ticks\":\"\"},\"caxis\":{\"gridcolor\":\"white\",\"linecolor\":\"white\",\"ticks\":\"\"}},\"coloraxis\":{\"colorbar\":{\"outlinewidth\":0,\"ticks\":\"\"}},\"colorscale\":{\"sequential\":[[0.0,\"#0d0887\"],[0.1111111111111111,\"#46039f\"],[0.2222222222222222,\"#7201a8\"],[0.3333333333333333,\"#9c179e\"],[0.4444444444444444,\"#bd3786\"],[0.5555555555555556,\"#d8576b\"],[0.6666666666666666,\"#ed7953\"],[0.7777777777777778,\"#fb9f3a\"],[0.8888888888888888,\"#fdca26\"],[1.0,\"#f0f921\"]],\"sequentialminus\":[[0.0,\"#0d0887\"],[0.1111111111111111,\"#46039f\"],[0.2222222222222222,\"#7201a8\"],[0.3333333333333333,\"#9c179e\"],[0.4444444444444444,\"#bd3786\"],[0.5555555555555556,\"#d8576b\"],[0.6666666666666666,\"#ed7953\"],[0.7777777777777778,\"#fb9f3a\"],[0.8888888888888888,\"#fdca26\"],[1.0,\"#f0f921\"]],\"diverging\":[[0,\"#8e0152\"],[0.1,\"#c51b7d\"],[0.2,\"#de77ae\"],[0.3,\"#f1b6da\"],[0.4,\"#fde0ef\"],[0.5,\"#f7f7f7\"],[0.6,\"#e6f5d0\"],[0.7,\"#b8e186\"],[0.8,\"#7fbc41\"],[0.9,\"#4d9221\"],[1,\"#276419\"]]},\"xaxis\":{\"gridcolor\":\"white\",\"linecolor\":\"white\",\"ticks\":\"\",\"title\":{\"standoff\":15},\"zerolinecolor\":\"white\",\"automargin\":true,\"zerolinewidth\":2},\"yaxis\":{\"gridcolor\":\"white\",\"linecolor\":\"white\",\"ticks\":\"\",\"title\":{\"standoff\":15},\"zerolinecolor\":\"white\",\"automargin\":true,\"zerolinewidth\":2},\"scene\":{\"xaxis\":{\"backgroundcolor\":\"#E5ECF6\",\"gridcolor\":\"white\",\"linecolor\":\"white\",\"showbackground\":true,\"ticks\":\"\",\"zerolinecolor\":\"white\",\"gridwidth\":2},\"yaxis\":{\"backgroundcolor\":\"#E5ECF6\",\"gridcolor\":\"white\",\"linecolor\":\"white\",\"showbackground\":true,\"ticks\":\"\",\"zerolinecolor\":\"white\",\"gridwidth\":2},\"zaxis\":{\"backgroundcolor\":\"#E5ECF6\",\"gridcolor\":\"white\",\"linecolor\":\"white\",\"showbackground\":true,\"ticks\":\"\",\"zerolinecolor\":\"white\",\"gridwidth\":2}},\"shapedefaults\":{\"line\":{\"color\":\"#2a3f5f\"}},\"annotationdefaults\":{\"arrowcolor\":\"#2a3f5f\",\"arrowhead\":0,\"arrowwidth\":1},\"geo\":{\"bgcolor\":\"white\",\"landcolor\":\"#E5ECF6\",\"subunitcolor\":\"white\",\"showland\":true,\"showlakes\":true,\"lakecolor\":\"white\"},\"title\":{\"x\":0.05},\"mapbox\":{\"style\":\"light\"}}},\"scene\":{\"domain\":{\"x\":[0.0,1.0],\"y\":[0.0,1.0]},\"xaxis\":{\"title\":{\"text\":\"X\"}},\"yaxis\":{\"title\":{\"text\":\"Y\"}},\"zaxis\":{\"title\":{\"text\":\"Z\"}}},\"legend\":{\"title\":{\"text\":\"Category\"},\"tracegroupgap\":0},\"title\":{\"text\":\"3D Scatter Plot using Plotly\"}},                        {\"responsive\": true}                    ).then(function(){\n",
              "                            \n",
              "var gd = document.getElementById('1d4a5da6-8ba3-4749-9bd2-525f1e90a6fe');\n",
              "var x = new MutationObserver(function (mutations, observer) {{\n",
              "        var display = window.getComputedStyle(gd).display;\n",
              "        if (!display || display === 'none') {{\n",
              "            console.log([gd, 'removed!']);\n",
              "            Plotly.purge(gd);\n",
              "            observer.disconnect();\n",
              "        }}\n",
              "}});\n",
              "\n",
              "// Listen for the removal of the full notebook cells\n",
              "var notebookContainer = gd.closest('#notebook-container');\n",
              "if (notebookContainer) {{\n",
              "    x.observe(notebookContainer, {childList: true});\n",
              "}}\n",
              "\n",
              "// Listen for the clearing of the current output cell\n",
              "var outputEl = gd.closest('.output');\n",
              "if (outputEl) {{\n",
              "    x.observe(outputEl, {childList: true});\n",
              "}}\n",
              "\n",
              "                        })                };                            </script>        </div>\n",
              "</body>\n",
              "</html>"
            ]
          },
          "metadata": {}
        }
      ]
    }
  ]
}